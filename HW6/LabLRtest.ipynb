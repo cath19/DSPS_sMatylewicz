{
  "nbformat": 4,
  "nbformat_minor": 0,
  "metadata": {
    "kernelspec": {
      "display_name": "Python 3",
      "language": "python",
      "name": "python3"
    },
    "language_info": {
      "codemirror_mode": {
        "name": "ipython",
        "version": 3
      },
      "file_extension": ".py",
      "mimetype": "text/x-python",
      "name": "python",
      "nbconvert_exporter": "python",
      "pygments_lexer": "ipython3",
      "version": "3.7.3"
    },
    "latex_envs": {
      "LaTeX_envs_menu_present": true,
      "autoclose": false,
      "autocomplete": true,
      "bibliofile": "biblio.bib",
      "cite_by": "apalike",
      "current_citInitial": 1,
      "eqLabelWithNumbers": true,
      "eqNumInitial": 1,
      "hotkeys": {
        "equation": "Ctrl-E",
        "itemize": "Ctrl-I"
      },
      "labels_anchors": false,
      "latex_user_defs": false,
      "report_style_numbering": false,
      "user_envs_cfg": false
    },
    "nbTranslate": {
      "displayLangs": [
        "*"
      ],
      "hotkey": "alt-t",
      "langInMainMenu": true,
      "sourceLang": "en",
      "targetLang": "fr",
      "useGoogleTranslate": true
    },
    "toc": {
      "base_numbering": 1,
      "nav_menu": {},
      "number_sections": true,
      "sideBar": true,
      "skip_h1_title": false,
      "title_cell": "Table of Contents",
      "title_sidebar": "Contents",
      "toc_cell": false,
      "toc_position": {},
      "toc_section_display": true,
      "toc_window_display": false
    },
    "colab": {
      "name": "LabLRtest.ipynb",
      "provenance": [],
      "include_colab_link": true
    }
  },
  "cells": [
    {
      "cell_type": "markdown",
      "metadata": {
        "id": "view-in-github",
        "colab_type": "text"
      },
      "source": [
        "<a href=\"https://colab.research.google.com/github/samuelmat/DSPS_sMatylewicz/blob/master/HW6/LabLRtest.ipynb\" target=\"_parent\"><img src=\"https://colab.research.google.com/assets/colab-badge.svg\" alt=\"Open In Colab\"/></a>"
      ]
    },
    {
      "cell_type": "code",
      "metadata": {
        "ExecuteTime": {
          "end_time": "2019-10-16T17:44:08.195190Z",
          "start_time": "2019-10-16T17:44:08.012595Z"
        },
        "id": "qMPfUwa4KErk",
        "colab_type": "code",
        "colab": {
          "base_uri": "https://localhost:8080/",
          "height": 36
        },
        "outputId": "6a523c9e-4699-41d3-d7f8-9ba6755165e5"
      },
      "source": [
        "from __future__ import division\n",
        "import pandas as pd\n",
        "import pylab as pl\n",
        "%pylab inline\n"
      ],
      "execution_count": 2,
      "outputs": [
        {
          "output_type": "stream",
          "text": [
            "Populating the interactive namespace from numpy and matplotlib\n"
          ],
          "name": "stdout"
        }
      ]
    },
    {
      "cell_type": "markdown",
      "metadata": {
        "id": "5yWksdlaKEr7",
        "colab_type": "text"
      },
      "source": [
        "###### read in the data\n"
      ]
    },
    {
      "cell_type": "code",
      "metadata": {
        "ExecuteTime": {
          "end_time": "2019-10-16T17:44:09.129439Z",
          "start_time": "2019-10-16T17:44:09.097750Z"
        },
        "id": "DLdCmJZDKEsD",
        "colab_type": "code",
        "colab": {
          "base_uri": "https://localhost:8080/",
          "height": 226
        },
        "outputId": "313a288a-c101-4d91-ac5b-230ee203a6f1"
      },
      "source": [
        "jla = pd.read_csv(\"https://raw.githubusercontent.com/fedhere/DSPS/master/HW6/jla_likelihood_v6/data/jla_lcparams.txt\", \n",
        "                  sep=\" \")\n",
        "jla.head()"
      ],
      "execution_count": 3,
      "outputs": [
        {
          "output_type": "execute_result",
          "data": {
            "text/html": [
              "<div>\n",
              "<style scoped>\n",
              "    .dataframe tbody tr th:only-of-type {\n",
              "        vertical-align: middle;\n",
              "    }\n",
              "\n",
              "    .dataframe tbody tr th {\n",
              "        vertical-align: top;\n",
              "    }\n",
              "\n",
              "    .dataframe thead th {\n",
              "        text-align: right;\n",
              "    }\n",
              "</style>\n",
              "<table border=\"1\" class=\"dataframe\">\n",
              "  <thead>\n",
              "    <tr style=\"text-align: right;\">\n",
              "      <th></th>\n",
              "      <th>#name</th>\n",
              "      <th>zcmb</th>\n",
              "      <th>zhel</th>\n",
              "      <th>dz</th>\n",
              "      <th>mb</th>\n",
              "      <th>dmb</th>\n",
              "      <th>x1</th>\n",
              "      <th>dx1</th>\n",
              "      <th>color</th>\n",
              "      <th>dcolor</th>\n",
              "      <th>3rdvar</th>\n",
              "      <th>d3rdvar</th>\n",
              "      <th>tmax</th>\n",
              "      <th>dtmax</th>\n",
              "      <th>cov_m_s</th>\n",
              "      <th>cov_m_c</th>\n",
              "      <th>cov_s_c</th>\n",
              "      <th>set</th>\n",
              "      <th>ra</th>\n",
              "      <th>dec</th>\n",
              "      <th>biascor</th>\n",
              "    </tr>\n",
              "  </thead>\n",
              "  <tbody>\n",
              "    <tr>\n",
              "      <th>0</th>\n",
              "      <td>03D1au</td>\n",
              "      <td>0.503084</td>\n",
              "      <td>0.5043</td>\n",
              "      <td>0</td>\n",
              "      <td>23.001698</td>\n",
              "      <td>0.088031</td>\n",
              "      <td>1.273191</td>\n",
              "      <td>0.150058</td>\n",
              "      <td>-0.012353</td>\n",
              "      <td>0.030011</td>\n",
              "      <td>9.517</td>\n",
              "      <td>0.1105</td>\n",
              "      <td>52909.745220</td>\n",
              "      <td>0.214332</td>\n",
              "      <td>0.000790</td>\n",
              "      <td>0.000440</td>\n",
              "      <td>-0.000030</td>\n",
              "      <td>1</td>\n",
              "      <td>36.043210</td>\n",
              "      <td>-4.037469</td>\n",
              "      <td>0.001697</td>\n",
              "    </tr>\n",
              "    <tr>\n",
              "      <th>1</th>\n",
              "      <td>03D1aw</td>\n",
              "      <td>0.580724</td>\n",
              "      <td>0.5820</td>\n",
              "      <td>0</td>\n",
              "      <td>23.573937</td>\n",
              "      <td>0.090132</td>\n",
              "      <td>0.974346</td>\n",
              "      <td>0.273823</td>\n",
              "      <td>-0.025076</td>\n",
              "      <td>0.036691</td>\n",
              "      <td>9.169</td>\n",
              "      <td>0.0880</td>\n",
              "      <td>52902.898002</td>\n",
              "      <td>0.352732</td>\n",
              "      <td>0.002823</td>\n",
              "      <td>0.000415</td>\n",
              "      <td>0.001574</td>\n",
              "      <td>1</td>\n",
              "      <td>36.061634</td>\n",
              "      <td>-4.517158</td>\n",
              "      <td>0.000843</td>\n",
              "    </tr>\n",
              "    <tr>\n",
              "      <th>2</th>\n",
              "      <td>03D1ax</td>\n",
              "      <td>0.494795</td>\n",
              "      <td>0.4960</td>\n",
              "      <td>0</td>\n",
              "      <td>22.960139</td>\n",
              "      <td>0.088110</td>\n",
              "      <td>-0.728837</td>\n",
              "      <td>0.102069</td>\n",
              "      <td>-0.099683</td>\n",
              "      <td>0.030305</td>\n",
              "      <td>11.580</td>\n",
              "      <td>0.1125</td>\n",
              "      <td>52915.923670</td>\n",
              "      <td>0.111634</td>\n",
              "      <td>0.000542</td>\n",
              "      <td>0.000475</td>\n",
              "      <td>-0.000024</td>\n",
              "      <td>1</td>\n",
              "      <td>36.097287</td>\n",
              "      <td>-4.720774</td>\n",
              "      <td>0.001692</td>\n",
              "    </tr>\n",
              "    <tr>\n",
              "      <th>3</th>\n",
              "      <td>03D1bp</td>\n",
              "      <td>0.345928</td>\n",
              "      <td>0.3470</td>\n",
              "      <td>0</td>\n",
              "      <td>22.398137</td>\n",
              "      <td>0.087263</td>\n",
              "      <td>-1.155110</td>\n",
              "      <td>0.112834</td>\n",
              "      <td>-0.040581</td>\n",
              "      <td>0.026679</td>\n",
              "      <td>10.821</td>\n",
              "      <td>0.1235</td>\n",
              "      <td>52920.249015</td>\n",
              "      <td>0.102828</td>\n",
              "      <td>0.001114</td>\n",
              "      <td>0.000616</td>\n",
              "      <td>0.000295</td>\n",
              "      <td>1</td>\n",
              "      <td>36.657235</td>\n",
              "      <td>-4.838779</td>\n",
              "      <td>-0.000270</td>\n",
              "    </tr>\n",
              "    <tr>\n",
              "      <th>4</th>\n",
              "      <td>03D1co</td>\n",
              "      <td>0.677662</td>\n",
              "      <td>0.6790</td>\n",
              "      <td>0</td>\n",
              "      <td>24.078115</td>\n",
              "      <td>0.098356</td>\n",
              "      <td>0.618820</td>\n",
              "      <td>0.404295</td>\n",
              "      <td>-0.039380</td>\n",
              "      <td>0.067403</td>\n",
              "      <td>8.647</td>\n",
              "      <td>0.2840</td>\n",
              "      <td>52954.458342</td>\n",
              "      <td>0.454715</td>\n",
              "      <td>0.011857</td>\n",
              "      <td>0.000780</td>\n",
              "      <td>0.005898</td>\n",
              "      <td>1</td>\n",
              "      <td>36.567748</td>\n",
              "      <td>-4.935050</td>\n",
              "      <td>-0.002855</td>\n",
              "    </tr>\n",
              "  </tbody>\n",
              "</table>\n",
              "</div>"
            ],
            "text/plain": [
              "    #name      zcmb    zhel  dz  ...  set         ra       dec   biascor\n",
              "0  03D1au  0.503084  0.5043   0  ...    1  36.043210 -4.037469  0.001697\n",
              "1  03D1aw  0.580724  0.5820   0  ...    1  36.061634 -4.517158  0.000843\n",
              "2  03D1ax  0.494795  0.4960   0  ...    1  36.097287 -4.720774  0.001692\n",
              "3  03D1bp  0.345928  0.3470   0  ...    1  36.657235 -4.838779 -0.000270\n",
              "4  03D1co  0.677662  0.6790   0  ...    1  36.567748 -4.935050 -0.002855\n",
              "\n",
              "[5 rows x 21 columns]"
            ]
          },
          "metadata": {
            "tags": []
          },
          "execution_count": 3
        }
      ]
    },
    {
      "cell_type": "markdown",
      "metadata": {
        "ExecuteTime": {
          "end_time": "2019-10-16T17:52:28.929026Z",
          "start_time": "2019-10-16T17:52:28.927150Z"
        },
        "id": "5ucxtEb4KEsO",
        "colab_type": "text"
      },
      "source": [
        "###### plot the data: always look at your data!\n"
      ]
    },
    {
      "cell_type": "code",
      "metadata": {
        "ExecuteTime": {
          "end_time": "2019-10-16T17:44:31.241836Z",
          "start_time": "2019-10-16T17:44:30.656957Z"
        },
        "id": "US0Q02B8KEsS",
        "colab_type": "code",
        "colab": {
          "base_uri": "https://localhost:8080/",
          "height": 287
        },
        "outputId": "b7d1d839-1bdf-4c99-a8c8-2fb6606fc4b7"
      },
      "source": [
        "jla.plot.scatter(x=\"zcmb\", y=\"mb\", logx=True, yerr=\"dmb\", s=10);\n"
      ],
      "execution_count": 4,
      "outputs": [
        {
          "output_type": "display_data",
          "data": {
            "image/png": "[encoded data removed]",
            "text/plain": [
              "<Figure size 432x288 with 1 Axes>"
            ]
          },
          "metadata": {
            "tags": []
          }
        }
      ]
    },
    {
      "cell_type": "code",
      "metadata": {
        "ExecuteTime": {
          "end_time": "2019-10-16T17:45:46.268183Z",
          "start_time": "2019-10-16T17:45:45.217429Z"
        },
        "id": "EboYtCqgKEsd",
        "colab_type": "code",
        "colab": {}
      },
      "source": [
        "# the statsmodels packages you will need - remember that you should move all imports to the top at the end\n",
        "\n",
        "import statsmodels.api as sm\n",
        "from statsmodels import graphics\n",
        "from statsmodels.formula import api as smf"
      ],
      "execution_count": 0,
      "outputs": []
    },
    {
      "cell_type": "code",
      "metadata": {
        "ExecuteTime": {
          "end_time": "2019-10-16T17:45:59.427792Z",
          "start_time": "2019-10-16T17:45:59.423221Z"
        },
        "id": "9epmBEL2KEsm",
        "colab_type": "code",
        "colab": {}
      },
      "source": [
        "#create a log-variable feature in your datase for convenience\n",
        "jla['log10zcmb'] = np.log10(jla.zcmb)"
      ],
      "execution_count": 0,
      "outputs": []
    },
    {
      "cell_type": "markdown",
      "metadata": {
        "id": "VzM0xUcoKEsx",
        "colab_type": "text"
      },
      "source": [
        "###### this is how we fit a line to data using the statsmodels \"formula\" methods\n",
        "ols stands for ordinary least square fit, which means you obtain the fit by minimizing the residuals"
      ]
    },
    {
      "cell_type": "code",
      "metadata": {
        "ExecuteTime": {
          "end_time": "2019-10-16T17:46:07.219464Z",
          "start_time": "2019-10-16T17:46:07.158257Z"
        },
        "id": "kQ3s3uvYKEs0",
        "colab_type": "code",
        "colab": {
          "base_uri": "https://localhost:8080/",
          "height": 452
        },
        "outputId": "bdf24aa7-f959-49f0-fa03-80c63159cb09"
      },
      "source": [
        "smmodel = smf.ols('mb ~ log10zcmb', data=jla).fit()\n",
        "smmodel.summary()"
      ],
      "execution_count": 7,
      "outputs": [
        {
          "output_type": "execute_result",
          "data": {
            "text/html": [
              "<table class=\"simpletable\">\n",
              "<caption>OLS Regression Results</caption>\n",
              "<tr>\n",
              "  <th>Dep. Variable:</th>           <td>mb</td>        <th>  R-squared:         </th> <td>   0.988</td> \n",
              "</tr>\n",
              "<tr>\n",
              "  <th>Model:</th>                   <td>OLS</td>       <th>  Adj. R-squared:    </th> <td>   0.987</td> \n",
              "</tr>\n",
              "<tr>\n",
              "  <th>Method:</th>             <td>Least Squares</td>  <th>  F-statistic:       </th> <td>5.831e+04</td>\n",
              "</tr>\n",
              "<tr>\n",
              "  <th>Date:</th>             <td>Wed, 16 Oct 2019</td> <th>  Prob (F-statistic):</th>  <td>  0.00</td>  \n",
              "</tr>\n",
              "<tr>\n",
              "  <th>Time:</th>                 <td>20:01:22</td>     <th>  Log-Likelihood:    </th> <td> -150.73</td> \n",
              "</tr>\n",
              "<tr>\n",
              "  <th>No. Observations:</th>      <td>   740</td>      <th>  AIC:               </th> <td>   305.5</td> \n",
              "</tr>\n",
              "<tr>\n",
              "  <th>Df Residuals:</th>          <td>   738</td>      <th>  BIC:               </th> <td>   314.7</td> \n",
              "</tr>\n",
              "<tr>\n",
              "  <th>Df Model:</th>              <td>     1</td>      <th>                     </th>     <td> </td>    \n",
              "</tr>\n",
              "<tr>\n",
              "  <th>Covariance Type:</th>      <td>nonrobust</td>    <th>                     </th>     <td> </td>    \n",
              "</tr>\n",
              "</table>\n",
              "<table class=\"simpletable\">\n",
              "<tr>\n",
              "      <td></td>         <th>coef</th>     <th>std err</th>      <th>t</th>      <th>P>|t|</th>  <th>[0.025</th>    <th>0.975]</th>  \n",
              "</tr>\n",
              "<tr>\n",
              "  <th>Intercept</th> <td>   24.6562</td> <td>    0.019</td> <td> 1298.480</td> <td> 0.000</td> <td>   24.619</td> <td>   24.694</td>\n",
              "</tr>\n",
              "<tr>\n",
              "  <th>log10zcmb</th> <td>    5.3721</td> <td>    0.022</td> <td>  241.474</td> <td> 0.000</td> <td>    5.328</td> <td>    5.416</td>\n",
              "</tr>\n",
              "</table>\n",
              "<table class=\"simpletable\">\n",
              "<tr>\n",
              "  <th>Omnibus:</th>       <td>24.872</td> <th>  Durbin-Watson:     </th> <td>   1.828</td>\n",
              "</tr>\n",
              "<tr>\n",
              "  <th>Prob(Omnibus):</th> <td> 0.000</td> <th>  Jarque-Bera (JB):  </th> <td>  26.694</td>\n",
              "</tr>\n",
              "<tr>\n",
              "  <th>Skew:</th>          <td> 0.433</td> <th>  Prob(JB):          </th> <td>1.60e-06</td>\n",
              "</tr>\n",
              "<tr>\n",
              "  <th>Kurtosis:</th>      <td> 3.343</td> <th>  Cond. No.          </th> <td>    3.21</td>\n",
              "</tr>\n",
              "</table><br/><br/>Warnings:<br/>[1] Standard Errors assume that the covariance matrix of the errors is correctly specified."
            ],
            "text/plain": [
              "<class 'statsmodels.iolib.summary.Summary'>\n",
              "\"\"\"\n",
              "                            OLS Regression Results                            \n",
              "==============================================================================\n",
              "Dep. Variable:                     mb   R-squared:                       0.988\n",
              "Model:                            OLS   Adj. R-squared:                  0.987\n",
              "Method:                 Least Squares   F-statistic:                 5.831e+04\n",
              "Date:                Wed, 16 Oct 2019   Prob (F-statistic):               0.00\n",
              "Time:                        20:01:22   Log-Likelihood:                -150.73\n",
              "No. Observations:                 740   AIC:                             305.5\n",
              "Df Residuals:                     738   BIC:                             314.7\n",
              "Df Model:                           1                                         \n",
              "Covariance Type:            nonrobust                                         \n",
              "==============================================================================\n",
              "                 coef    std err          t      P>|t|      [0.025      0.975]\n",
              "------------------------------------------------------------------------------\n",
              "Intercept     24.6562      0.019   1298.480      0.000      24.619      24.694\n",
              "log10zcmb      5.3721      0.022    241.474      0.000       5.328       5.416\n",
              "==============================================================================\n",
              "Omnibus:                       24.872   Durbin-Watson:                   1.828\n",
              "Prob(Omnibus):                  0.000   Jarque-Bera (JB):               26.694\n",
              "Skew:                           0.433   Prob(JB):                     1.60e-06\n",
              "Kurtosis:                       3.343   Cond. No.                         3.21\n",
              "==============================================================================\n",
              "\n",
              "Warnings:\n",
              "[1] Standard Errors assume that the covariance matrix of the errors is correctly specified.\n",
              "\"\"\""
            ]
          },
          "metadata": {
            "tags": []
          },
          "execution_count": 7
        }
      ]
    },
    {
      "cell_type": "code",
      "metadata": {
        "ExecuteTime": {
          "end_time": "2019-10-16T17:46:12.981563Z",
          "start_time": "2019-10-16T17:46:12.977716Z"
        },
        "id": "QY3XPW1qKEs9",
        "colab_type": "code",
        "colab": {
          "base_uri": "https://localhost:8080/",
          "height": 73
        },
        "outputId": "21acc135-3d9e-412c-c0d1-8ad711b7eb50"
      },
      "source": [
        "smmodel.params"
      ],
      "execution_count": 8,
      "outputs": [
        {
          "output_type": "execute_result",
          "data": {
            "text/plain": [
              "Intercept    24.656231\n",
              "log10zcmb     5.372055\n",
              "dtype: float64"
            ]
          },
          "metadata": {
            "tags": []
          },
          "execution_count": 8
        }
      ]
    },
    {
      "cell_type": "code",
      "metadata": {
        "ExecuteTime": {
          "end_time": "2019-10-16T17:46:18.069056Z",
          "start_time": "2019-10-16T17:46:18.064088Z"
        },
        "id": "Xz9CqDIAKEtI",
        "colab_type": "code",
        "colab": {
          "base_uri": "https://localhost:8080/",
          "height": 36
        },
        "outputId": "d00d00af-f00f-4664-ea47-1c96fd90d02b"
      },
      "source": [
        "smmodel.llf"
      ],
      "execution_count": 9,
      "outputs": [
        {
          "output_type": "execute_result",
          "data": {
            "text/plain": [
              "-150.7263169128296"
            ]
          },
          "metadata": {
            "tags": []
          },
          "execution_count": 9
        }
      ]
    },
    {
      "cell_type": "markdown",
      "metadata": {
        "id": "vHMzOarcKEtT",
        "colab_type": "text"
      },
      "source": [
        "###### this is simething you can use to visualize the model"
      ]
    },
    {
      "cell_type": "code",
      "metadata": {
        "ExecuteTime": {
          "end_time": "2019-10-16T17:46:25.238772Z",
          "start_time": "2019-10-16T17:46:25.112965Z"
        },
        "id": "l-R9636LKEtW",
        "colab_type": "code",
        "colab": {
          "base_uri": "https://localhost:8080/",
          "height": 296
        },
        "outputId": "81410a62-831c-4baf-c363-2ae998f89a08"
      },
      "source": [
        "sm.graphics.plot_partregress(\"log10zcmb\", \"mb\", exog_others=[], \n",
        "                             data=jla, obs_labels=False);\n"
      ],
      "execution_count": 10,
      "outputs": [
        {
          "output_type": "display_data",
          "data": {
            "image/png": "[encoded data removed]",
            "text/plain": [
              "<Figure size 432x288 with 1 Axes>"
            ]
          },
          "metadata": {
            "tags": []
          }
        }
      ]
    },
    {
      "cell_type": "markdown",
      "metadata": {
        "id": "efBU0B7wKEtg",
        "colab_type": "text"
      },
      "source": [
        "###### now use the same function to fit a polynomial: ax**2 + bx + c to your data"
      ]
    },
    {
      "cell_type": "code",
      "metadata": {
        "id": "M3a5bfGHMSTZ",
        "colab_type": "code",
        "colab": {}
      },
      "source": [
        "jla['x2'] = jla.log10zcmb**2"
      ],
      "execution_count": 0,
      "outputs": []
    },
    {
      "cell_type": "code",
      "metadata": {
        "ExecuteTime": {
          "end_time": "2019-10-16T17:47:00.499185Z",
          "start_time": "2019-10-16T17:47:00.414571Z"
        },
        "id": "l_NvYTXyKEtj",
        "colab_type": "code",
        "colab": {
          "base_uri": "https://localhost:8080/",
          "height": 473
        },
        "outputId": "b0d14344-14c8-437a-8a2f-e5b6607255a2"
      },
      "source": [
        "sm2 = smf.ols('mb ~ log10zcmb + x2', data=jla).fit()\n",
        "sm2.summary()"
      ],
      "execution_count": 26,
      "outputs": [
        {
          "output_type": "execute_result",
          "data": {
            "text/html": [
              "<table class=\"simpletable\">\n",
              "<caption>OLS Regression Results</caption>\n",
              "<tr>\n",
              "  <th>Dep. Variable:</th>           <td>mb</td>        <th>  R-squared:         </th> <td>   0.989</td> \n",
              "</tr>\n",
              "<tr>\n",
              "  <th>Model:</th>                   <td>OLS</td>       <th>  Adj. R-squared:    </th> <td>   0.989</td> \n",
              "</tr>\n",
              "<tr>\n",
              "  <th>Method:</th>             <td>Least Squares</td>  <th>  F-statistic:       </th> <td>3.248e+04</td>\n",
              "</tr>\n",
              "<tr>\n",
              "  <th>Date:</th>             <td>Wed, 16 Oct 2019</td> <th>  Prob (F-statistic):</th>  <td>  0.00</td>  \n",
              "</tr>\n",
              "<tr>\n",
              "  <th>Time:</th>                 <td>20:20:03</td>     <th>  Log-Likelihood:    </th> <td> -110.79</td> \n",
              "</tr>\n",
              "<tr>\n",
              "  <th>No. Observations:</th>      <td>   740</td>      <th>  AIC:               </th> <td>   227.6</td> \n",
              "</tr>\n",
              "<tr>\n",
              "  <th>Df Residuals:</th>          <td>   737</td>      <th>  BIC:               </th> <td>   241.4</td> \n",
              "</tr>\n",
              "<tr>\n",
              "  <th>Df Model:</th>              <td>     2</td>      <th>                     </th>     <td> </td>    \n",
              "</tr>\n",
              "<tr>\n",
              "  <th>Covariance Type:</th>      <td>nonrobust</td>    <th>                     </th>     <td> </td>    \n",
              "</tr>\n",
              "</table>\n",
              "<table class=\"simpletable\">\n",
              "<tr>\n",
              "      <td></td>         <th>coef</th>     <th>std err</th>      <th>t</th>      <th>P>|t|</th>  <th>[0.025</th>    <th>0.975]</th>  \n",
              "</tr>\n",
              "<tr>\n",
              "  <th>Intercept</th> <td>   24.8263</td> <td>    0.026</td> <td>  960.182</td> <td> 0.000</td> <td>   24.776</td> <td>   24.877</td>\n",
              "</tr>\n",
              "<tr>\n",
              "  <th>log10zcmb</th> <td>    5.9722</td> <td>    0.069</td> <td>   86.816</td> <td> 0.000</td> <td>    5.837</td> <td>    6.107</td>\n",
              "</tr>\n",
              "<tr>\n",
              "  <th>x2</th>        <td>    0.3417</td> <td>    0.037</td> <td>    9.165</td> <td> 0.000</td> <td>    0.269</td> <td>    0.415</td>\n",
              "</tr>\n",
              "</table>\n",
              "<table class=\"simpletable\">\n",
              "<tr>\n",
              "  <th>Omnibus:</th>       <td>46.425</td> <th>  Durbin-Watson:     </th> <td>   2.020</td>\n",
              "</tr>\n",
              "<tr>\n",
              "  <th>Prob(Omnibus):</th> <td> 0.000</td> <th>  Jarque-Bera (JB):  </th> <td>  56.352</td>\n",
              "</tr>\n",
              "<tr>\n",
              "  <th>Skew:</th>          <td> 0.582</td> <th>  Prob(JB):          </th> <td>5.80e-13</td>\n",
              "</tr>\n",
              "<tr>\n",
              "  <th>Kurtosis:</th>      <td> 3.687</td> <th>  Cond. No.          </th> <td>    12.6</td>\n",
              "</tr>\n",
              "</table><br/><br/>Warnings:<br/>[1] Standard Errors assume that the covariance matrix of the errors is correctly specified."
            ],
            "text/plain": [
              "<class 'statsmodels.iolib.summary.Summary'>\n",
              "\"\"\"\n",
              "                            OLS Regression Results                            \n",
              "==============================================================================\n",
              "Dep. Variable:                     mb   R-squared:                       0.989\n",
              "Model:                            OLS   Adj. R-squared:                  0.989\n",
              "Method:                 Least Squares   F-statistic:                 3.248e+04\n",
              "Date:                Wed, 16 Oct 2019   Prob (F-statistic):               0.00\n",
              "Time:                        20:20:03   Log-Likelihood:                -110.79\n",
              "No. Observations:                 740   AIC:                             227.6\n",
              "Df Residuals:                     737   BIC:                             241.4\n",
              "Df Model:                           2                                         \n",
              "Covariance Type:            nonrobust                                         \n",
              "==============================================================================\n",
              "                 coef    std err          t      P>|t|      [0.025      0.975]\n",
              "------------------------------------------------------------------------------\n",
              "Intercept     24.8263      0.026    960.182      0.000      24.776      24.877\n",
              "log10zcmb      5.9722      0.069     86.816      0.000       5.837       6.107\n",
              "x2             0.3417      0.037      9.165      0.000       0.269       0.415\n",
              "==============================================================================\n",
              "Omnibus:                       46.425   Durbin-Watson:                   2.020\n",
              "Prob(Omnibus):                  0.000   Jarque-Bera (JB):               56.352\n",
              "Skew:                           0.582   Prob(JB):                     5.80e-13\n",
              "Kurtosis:                       3.687   Cond. No.                         12.6\n",
              "==============================================================================\n",
              "\n",
              "Warnings:\n",
              "[1] Standard Errors assume that the covariance matrix of the errors is correctly specified.\n",
              "\"\"\""
            ]
          },
          "metadata": {
            "tags": []
          },
          "execution_count": 26
        }
      ]
    },
    {
      "cell_type": "code",
      "metadata": {
        "id": "AknjCgOjOnBs",
        "colab_type": "code",
        "colab": {
          "base_uri": "https://localhost:8080/",
          "height": 36
        },
        "outputId": "dc7340bd-105c-4458-9b4f-6e6f30e97df1"
      },
      "source": [
        "sm2.compare_lr_test(smmodel)"
      ],
      "execution_count": 27,
      "outputs": [
        {
          "output_type": "execute_result",
          "data": {
            "text/plain": [
              "(79.87114983120841, 3.9963946120024177e-19, 1.0)"
            ]
          },
          "metadata": {
            "tags": []
          },
          "execution_count": 27
        }
      ]
    },
    {
      "cell_type": "code",
      "metadata": {
        "id": "9-9qiDIROnFQ",
        "colab_type": "code",
        "colab": {
          "base_uri": "https://localhost:8080/",
          "height": 323
        },
        "outputId": "db3ed0cb-3f82-4cab-f61d-aa40b5f9076e"
      },
      "source": [
        "sm2.graphics.plot_partregress(\"log10zcmb\", \"mb\", exog_others=[], \n",
        "                             data=jla, obs_labels=False);"
      ],
      "execution_count": 28,
      "outputs": [
        {
          "output_type": "error",
          "ename": "AttributeError",
          "evalue": "ignored",
          "traceback": [
            "\u001b[0;31m---------------------------------------------------------------------------\u001b[0m",
            "\u001b[0;31mAttributeError\u001b[0m                            Traceback (most recent call last)",
            "\u001b[0;32m<ipython-input-28-918c9b012f05>\u001b[0m in \u001b[0;36m<module>\u001b[0;34m()\u001b[0m\n\u001b[0;32m----> 1\u001b[0;31m sm2.graphics.plot_partregress(\"log10zcmb\", \"mb\", exog_others=[], \n\u001b[0m\u001b[1;32m      2\u001b[0m                              data=jla, obs_labels=False);\n",
            "\u001b[0;32m/usr/local/lib/python3.6/dist-packages/statsmodels/base/wrapper.py\u001b[0m in \u001b[0;36m__getattribute__\u001b[0;34m(self, attr)\u001b[0m\n\u001b[1;32m     33\u001b[0m             \u001b[0;32mpass\u001b[0m\u001b[0;34m\u001b[0m\u001b[0;34m\u001b[0m\u001b[0m\n\u001b[1;32m     34\u001b[0m \u001b[0;34m\u001b[0m\u001b[0m\n\u001b[0;32m---> 35\u001b[0;31m         \u001b[0mobj\u001b[0m \u001b[0;34m=\u001b[0m \u001b[0mgetattr\u001b[0m\u001b[0;34m(\u001b[0m\u001b[0mresults\u001b[0m\u001b[0;34m,\u001b[0m \u001b[0mattr\u001b[0m\u001b[0;34m)\u001b[0m\u001b[0;34m\u001b[0m\u001b[0;34m\u001b[0m\u001b[0m\n\u001b[0m\u001b[1;32m     36\u001b[0m         \u001b[0mdata\u001b[0m \u001b[0;34m=\u001b[0m \u001b[0mresults\u001b[0m\u001b[0;34m.\u001b[0m\u001b[0mmodel\u001b[0m\u001b[0;34m.\u001b[0m\u001b[0mdata\u001b[0m\u001b[0;34m\u001b[0m\u001b[0;34m\u001b[0m\u001b[0m\n\u001b[1;32m     37\u001b[0m         \u001b[0mhow\u001b[0m \u001b[0;34m=\u001b[0m \u001b[0mself\u001b[0m\u001b[0;34m.\u001b[0m\u001b[0m_wrap_attrs\u001b[0m\u001b[0;34m.\u001b[0m\u001b[0mget\u001b[0m\u001b[0;34m(\u001b[0m\u001b[0mattr\u001b[0m\u001b[0;34m)\u001b[0m\u001b[0;34m\u001b[0m\u001b[0;34m\u001b[0m\u001b[0m\n",
            "\u001b[0;31mAttributeError\u001b[0m: 'OLSResults' object has no attribute 'graphics'"
          ]
        }
      ]
    },
    {
      "cell_type": "code",
      "metadata": {
        "id": "rQo9Nfh9Om-a",
        "colab_type": "code",
        "colab": {}
      },
      "source": [
        ""
      ],
      "execution_count": 0,
      "outputs": []
    },
    {
      "cell_type": "code",
      "metadata": {
        "ExecuteTime": {
          "end_time": "2019-10-16T17:47:12.314966Z",
          "start_time": "2019-10-16T17:47:12.310949Z"
        },
        "id": "2QVkRQ37KEts",
        "colab_type": "code",
        "colab": {},
        "outputId": "70fdfca1-86c3-43e6-e8ba-33878ac48d6a"
      },
      "source": [
        "smmodel2.llf"
      ],
      "execution_count": 0,
      "outputs": [
        {
          "output_type": "execute_result",
          "data": {
            "text/plain": [
              "-110.79074199722515"
            ]
          },
          "metadata": {
            "tags": []
          },
          "execution_count": 15
        }
      ]
    },
    {
      "cell_type": "markdown",
      "metadata": {
        "id": "XeNZhrdLKEt1",
        "colab_type": "text"
      },
      "source": [
        "###### use the sm.compare_lr_test() \n",
        "\n",
        "https://docs.w3cub.com/statsmodels/generated/statsmodels.regression.linear_model.olsresults.compare_lm_test/"
      ]
    },
    {
      "cell_type": "code",
      "metadata": {
        "ExecuteTime": {
          "end_time": "2019-10-16T17:47:19.195619Z",
          "start_time": "2019-10-16T17:47:19.191695Z"
        },
        "id": "4b2Yl_XmKEt3",
        "colab_type": "code",
        "colab": {},
        "outputId": "2e610eeb-6187-45b6-b638-c3e356d037f0"
      },
      "source": [
        "..."
      ],
      "execution_count": 0,
      "outputs": [
        {
          "output_type": "execute_result",
          "data": {
            "text/plain": [
              "(79.87114983120887, 3.996394612001486e-19, 1.0)"
            ]
          },
          "metadata": {
            "tags": []
          },
          "execution_count": 16
        }
      ]
    },
    {
      "cell_type": "code",
      "metadata": {
        "ExecuteTime": {
          "end_time": "2019-09-28T22:07:35.390139Z",
          "start_time": "2019-09-28T22:07:35.058018Z"
        },
        "id": "DWZRJGZfKEt_",
        "colab_type": "code",
        "colab": {},
        "outputId": "94a502cf-7456-413a-b7e2-deb687260d5b"
      },
      "source": [
        "fig, ax = pl.subplots(1, figsize=(10,10))\n",
        "jla.plot.scatter(\"log10zcmb\", \"mb\", yerr=\"dmb\", ax=ax,\n",
        "            color=jla.set/jla.set.max(), alpha=0.5, cmap=\"viridis\")\n",
        "abline_plot(model_results=smmodel, c= 'r', ax=ax);\n",
        "ax.plot(jla.sort_values(\"log10zcmb\").log10zcmb,\n",
        "        smmodel2.predict(jla.sort_values(\"log10zcmb\").log10zcmb), 'k-')"
      ],
      "execution_count": 0,
      "outputs": [
        {
          "output_type": "stream",
          "text": [
            "/Users/fbb/anaconda3/lib/python3.7/site-packages/pandas/plotting/_core.py:202: UserWarning: 'color' and 'colormap' cannot be used simultaneously. Using 'color'\n",
            "  warnings.warn(\"'color' and 'colormap' cannot be used \"\n"
          ],
          "name": "stderr"
        },
        {
          "output_type": "execute_result",
          "data": {
            "text/plain": [
              "[<matplotlib.lines.Line2D at 0x1c2ee9a160>]"
            ]
          },
          "metadata": {
            "tags": []
          },
          "execution_count": 196
        },
        {
          "output_type": "display_data",
          "data": {
            "image/png": "[encoded data removed]",
            "text/plain": [
              "<Figure size 720x720 with 2 Axes>"
            ]
          },
          "metadata": {
            "tags": [],
            "needs_background": "light"
          }
        }
      ]
    },
    {
      "cell_type": "code",
      "metadata": {
        "id": "UbnJ06wLKEuJ",
        "colab_type": "code",
        "colab": {}
      },
      "source": [
        ""
      ],
      "execution_count": 0,
      "outputs": []
    }
  ]
}