{
  "nbformat": 4,
  "nbformat_minor": 0,
  "metadata": {
    "colab": {
      "name": "Lab_10_2.ipynb",
      "provenance": [],
      "include_colab_link": true
    },
    "kernelspec": {
      "name": "python3",
      "display_name": "Python 3"
    }
  },
  "cells": [
    {
      "cell_type": "markdown",
      "metadata": {
        "id": "view-in-github",
        "colab_type": "text"
      },
      "source": [
        "<a href=\"https://colab.research.google.com/github/samuelmat/DSPS_sMatylewicz/blob/master/HW6/Lab_10_2.ipynb\" target=\"_parent\"><img src=\"https://colab.research.google.com/assets/colab-badge.svg\" alt=\"Open In Colab\"/></a>"
      ]
    },
    {
      "cell_type": "code",
      "metadata": {
        "id": "iuXzBQhyGX0Y",
        "colab_type": "code",
        "colab": {}
      },
      "source": [
        "import pandas as pd\n",
        "import scipy as sp\n",
        "from scipy import optimize\n",
        "import numpy as np\n",
        "from matplotlib import pylab as pl"
      ],
      "execution_count": 0,
      "outputs": []
    },
    {
      "cell_type": "code",
      "metadata": {
        "id": "Hutuey5nHeZA",
        "colab_type": "code",
        "colab": {}
      },
      "source": [
        "np.random.seed(555)"
      ],
      "execution_count": 0,
      "outputs": []
    },
    {
      "cell_type": "code",
      "metadata": {
        "id": "8_cTeSCRGv18",
        "colab_type": "code",
        "colab": {}
      },
      "source": [
        "x_vals = np.random.rand(100) * 10"
      ],
      "execution_count": 0,
      "outputs": []
    },
    {
      "cell_type": "code",
      "metadata": {
        "id": "tEIJxX8AHaMa",
        "colab_type": "code",
        "outputId": "09bb674e-51a5-48df-b49f-9554e2a68d64",
        "colab": {
          "base_uri": "https://localhost:8080/",
          "height": 391
        }
      },
      "source": [
        "x_vals"
      ],
      "execution_count": 0,
      "outputs": [
        {
          "output_type": "execute_result",
          "data": {
            "text/plain": [
              "array([7.17834087, 0.47855133, 9.44471978, 6.8638004 , 5.81207334,\n",
              "       1.42678616, 9.45919181, 3.39990587, 6.20435458, 4.52959644,\n",
              "       2.3976742 , 0.34504591, 1.48593113, 8.10866174, 6.53105376,\n",
              "       5.44468685, 0.41194765, 4.68166251, 8.88746733, 4.76258557,\n",
              "       4.12488984, 6.16106538, 3.21416554, 5.80869263, 3.9661405 ,\n",
              "       0.20091368, 4.31395898, 4.11244512, 6.29061747, 5.02521894,\n",
              "       1.6212784 , 6.66897061, 1.35272291, 1.69937536, 2.20830313,\n",
              "       0.86670475, 0.46840069, 0.28908051, 4.3867962 , 8.08565064,\n",
              "       6.13362455, 6.6097222 , 9.28622121, 4.87345755, 6.38178521,\n",
              "       1.85093821, 2.50653771, 4.46628009, 9.72624065, 4.67703036,\n",
              "       4.07470269, 7.86091879, 3.71535104, 2.20143415, 3.07846727,\n",
              "       2.86184245, 1.47343012, 7.42969034, 7.94321078, 3.2902046 ,\n",
              "       0.62102981, 9.66696377, 0.34688228, 7.92288645, 0.2252943 ,\n",
              "       1.59693565, 1.46141363, 8.8278803 , 1.89545066, 3.34775168,\n",
              "       4.09820686, 0.57803204, 5.42383827, 8.46712172, 8.24706115,\n",
              "       2.40896531, 5.14537387, 3.54767054, 9.68326953, 7.49548167,\n",
              "       7.28264277, 8.45389758, 4.05044473, 1.08512712, 7.52632771,\n",
              "       5.87102173, 5.91753381, 8.95891913, 5.89576732, 1.41637776,\n",
              "       6.29725261, 0.69392551, 9.59370439, 2.75142674, 6.16366374,\n",
              "       8.90869314, 7.34897374, 8.89940481, 9.3192079 , 0.31458503])"
            ]
          },
          "metadata": {
            "tags": []
          },
          "execution_count": 4
        }
      ]
    },
    {
      "cell_type": "code",
      "metadata": {
        "id": "0Dr1LlQfHrt4",
        "colab_type": "code",
        "colab": {}
      },
      "source": [
        "def line(x, a, b):\n",
        "  \"\"\"\n",
        "  Takes two parameters (a and b) along with an array of x values. Return y array\n",
        "  \"\"\"\n",
        "  \n",
        "  return a * x + b"
      ],
      "execution_count": 0,
      "outputs": []
    },
    {
      "cell_type": "code",
      "metadata": {
        "id": "ylPczG6UIr04",
        "colab_type": "code",
        "colab": {}
      },
      "source": [
        "y_vals = line(x_vals, 4, 3)"
      ],
      "execution_count": 0,
      "outputs": []
    },
    {
      "cell_type": "code",
      "metadata": {
        "id": "JAfT2i7cI0rr",
        "colab_type": "code",
        "outputId": "918e41af-2704-485d-b6a2-24a21e750eea",
        "colab": {
          "base_uri": "https://localhost:8080/",
          "height": 283
        }
      },
      "source": [
        "pl.plot(x_vals, y_vals, \".\")\n",
        "pl.xlabel(\"X-Values\")\n",
        "pl.ylabel(\"Y-Values\");"
      ],
      "execution_count": 0,
      "outputs": [
        {
          "output_type": "display_data",
          "data": {
            "image/png": "[encoded data removed]",
            "text/plain": [
              "<Figure size 432x288 with 1 Axes>"
            ]
          },
          "metadata": {
            "tags": []
          }
        }
      ]
    },
    {
      "cell_type": "code",
      "metadata": {
        "id": "VPtsdYHCJMj7",
        "colab_type": "code",
        "colab": {}
      },
      "source": [
        "scattered_y = np.random.randn(100) * 5"
      ],
      "execution_count": 0,
      "outputs": []
    },
    {
      "cell_type": "code",
      "metadata": {
        "id": "o7DnJ8ZgKBZl",
        "colab_type": "code",
        "outputId": "0f2a85a7-9d76-44dc-dda3-5e407a05ae6e",
        "colab": {
          "base_uri": "https://localhost:8080/",
          "height": 283
        }
      },
      "source": [
        "y_vals += scattered_y\n",
        "\n",
        "pl.plot(x_vals, y_vals, \".\")\n",
        "pl.xlabel(\"X-Values\")\n",
        "pl.ylabel(\"Y-Values\");"
      ],
      "execution_count": 0,
      "outputs": [
        {
          "output_type": "display_data",
          "data": {
            "image/png": "[encoded data removed]",
            "text/plain": [
              "<Figure size 432x288 with 1 Axes>"
            ]
          },
          "metadata": {
            "tags": []
          }
        }
      ]
    },
    {
      "cell_type": "code",
      "metadata": {
        "id": "nWW6vfzqKLdU",
        "colab_type": "code",
        "colab": {}
      },
      "source": [
        "uncertainties = np.random.randn(100) * 7"
      ],
      "execution_count": 0,
      "outputs": []
    },
    {
      "cell_type": "code",
      "metadata": {
        "id": "PHsiAijBKinb",
        "colab_type": "code",
        "outputId": "4791ea97-e44c-4e89-d251-bd95601c19c8",
        "colab": {
          "base_uri": "https://localhost:8080/",
          "height": 283
        }
      },
      "source": [
        "pl.errorbar(x_vals, y_vals, yerr = uncertainties, fmt = \".\")\n",
        "pl.xlabel(\"X-Values\")\n",
        "pl.ylabel(\"Y-Values\");"
      ],
      "execution_count": 0,
      "outputs": [
        {
          "output_type": "display_data",
          "data": {
            "image/png": "[encoded data removed]",
            "text/plain": [
              "<Figure size 432x288 with 1 Axes>"
            ]
          },
          "metadata": {
            "tags": []
          }
        }
      ]
    },
    {
      "cell_type": "code",
      "metadata": {
        "id": "AMr4OjlkK6KR",
        "colab_type": "code",
        "colab": {}
      },
      "source": [
        "popt, pcov = sp.optimize.curve_fit(line, x_vals, y_vals, p0 = [5, 0])"
      ],
      "execution_count": 0,
      "outputs": []
    },
    {
      "cell_type": "code",
      "metadata": {
        "id": "cqz6l_PzLZNx",
        "colab_type": "code",
        "outputId": "d9707185-d592-481e-826c-bf1d0da895eb",
        "colab": {
          "base_uri": "https://localhost:8080/",
          "height": 54
        }
      },
      "source": [
        "pcov"
      ],
      "execution_count": 0,
      "outputs": [
        {
          "output_type": "execute_result",
          "data": {
            "text/plain": [
              "array([[ 0.03279955, -0.15642658],\n",
              "       [-0.15642658,  1.02770122]])"
            ]
          },
          "metadata": {
            "tags": []
          },
          "execution_count": 13
        }
      ]
    },
    {
      "cell_type": "code",
      "metadata": {
        "id": "Td_udjjJMRVs",
        "colab_type": "code",
        "outputId": "73f943fd-ada5-43d7-9593-c4f7af95a1dc",
        "colab": {
          "base_uri": "https://localhost:8080/",
          "height": 302
        }
      },
      "source": [
        "pl.errorbar(x_vals, y_vals, yerr = uncertainties, fmt = \".\")\n",
        "pl.plot(x_vals, line(x_vals, popt[0], popt[1]), \"-\")\n",
        "pl.xlabel(\"X-Values\")\n",
        "pl.ylabel(\"Y-Values\")\n",
        "\n",
        "pl.fill_between(x_vals, line(x_vals, popt[0] + pcov[0][0]**0.5, popt[1] + pcov[1][1]**0.5), \n",
        "                line(x_vals, popt[0] + pcov[0][0]**0.5, popt[1] + pcov[1][1]**0.5), alpha = 0.5)"
      ],
      "execution_count": 0,
      "outputs": [
        {
          "output_type": "execute_result",
          "data": {
            "text/plain": [
              "<matplotlib.collections.PolyCollection at 0x7fe885e8bb38>"
            ]
          },
          "metadata": {
            "tags": []
          },
          "execution_count": 14
        },
        {
          "output_type": "display_data",
          "data": {
            "image/png": "[encoded data removed]",
            "text/plain": [
              "<Figure size 432x288 with 1 Axes>"
            ]
          },
          "metadata": {
            "tags": []
          }
        }
      ]
    },
    {
      "cell_type": "code",
      "metadata": {
        "id": "9qs32KulN7iG",
        "colab_type": "code",
        "colab": {}
      },
      "source": [
        "import sklearn as skl\n",
        "from sklearn import datasets, linear_model\n",
        "from sklearn.metrics import mean_squared_error, r2_score"
      ],
      "execution_count": 0,
      "outputs": []
    },
    {
      "cell_type": "code",
      "metadata": {
        "id": "c3majwdBOVf1",
        "colab_type": "code",
        "outputId": "3e419bce-5830-474f-ff12-b0efceefa95a",
        "colab": {
          "base_uri": "https://localhost:8080/",
          "height": 36
        }
      },
      "source": [
        "regr = skl.linear_model.LinearRegression()\n",
        "regr.fit(np.atleast_2d(x_vals).T, y_vals)"
      ],
      "execution_count": 0,
      "outputs": [
        {
          "output_type": "execute_result",
          "data": {
            "text/plain": [
              "LinearRegression(copy_X=True, fit_intercept=True, n_jobs=None, normalize=False)"
            ]
          },
          "metadata": {
            "tags": []
          },
          "execution_count": 16
        }
      ]
    },
    {
      "cell_type": "code",
      "metadata": {
        "id": "cXO8xX-1OvF7",
        "colab_type": "code",
        "outputId": "34581723-55a2-4276-ad57-31d8a0bb4561",
        "colab": {
          "base_uri": "https://localhost:8080/",
          "height": 302
        }
      },
      "source": [
        "pl.errorbar(x_vals, y_vals, yerr = uncertainties, fmt = \".\")\n",
        "pl.plot(x_vals, line(x_vals, popt[0], popt[1]), \"-\")\n",
        "pl.xlabel(\"X-Values\")\n",
        "pl.ylabel(\"Y-Values\")\n",
        "\n",
        "pl.plot(x_vals, regr.predict(np.atleast_2d(x_vals).T))"
      ],
      "execution_count": 0,
      "outputs": [
        {
          "output_type": "execute_result",
          "data": {
            "text/plain": [
              "[<matplotlib.lines.Line2D at 0x7fe87fceb128>]"
            ]
          },
          "metadata": {
            "tags": []
          },
          "execution_count": 17
        },
        {
          "output_type": "display_data",
          "data": {
            "image/png": "[encoded data removed]",
            "text/plain": [
              "<Figure size 432x288 with 1 Axes>"
            ]
          },
          "metadata": {
            "tags": []
          }
        }
      ]
    },
    {
      "cell_type": "code",
      "metadata": {
        "id": "VVhVj3nYPE3L",
        "colab_type": "code",
        "outputId": "b58c3a88-7ebb-409e-909d-ff825e0c8de8",
        "colab": {
          "base_uri": "https://localhost:8080/",
          "height": 36
        }
      },
      "source": [
        "regr.score(np.atleast_2d(x_vals).T, y_vals)"
      ],
      "execution_count": 0,
      "outputs": [
        {
          "output_type": "execute_result",
          "data": {
            "text/plain": [
              "0.8416082125726227"
            ]
          },
          "metadata": {
            "tags": []
          },
          "execution_count": 18
        }
      ]
    },
    {
      "cell_type": "code",
      "metadata": {
        "id": "XMBhp6L6PMhu",
        "colab_type": "code",
        "outputId": "76b98bb2-b2eb-431b-9d48-07384e322988",
        "colab": {
          "base_uri": "https://localhost:8080/",
          "height": 36
        }
      },
      "source": [
        "regr.fit(np.atleast_2d(x_vals[75:]).T, y_vals[75:])"
      ],
      "execution_count": 0,
      "outputs": [
        {
          "output_type": "execute_result",
          "data": {
            "text/plain": [
              "LinearRegression(copy_X=True, fit_intercept=True, n_jobs=None, normalize=False)"
            ]
          },
          "metadata": {
            "tags": []
          },
          "execution_count": 19
        }
      ]
    },
    {
      "cell_type": "code",
      "metadata": {
        "id": "jKLeQf2QPevY",
        "colab_type": "code",
        "outputId": "fd89cdd4-70a8-447a-a6bd-7d8181977f7e",
        "colab": {
          "base_uri": "https://localhost:8080/",
          "height": 36
        }
      },
      "source": [
        "regr.score(np.atleast_2d(x_vals[75:]).T, y_vals[75:])"
      ],
      "execution_count": 0,
      "outputs": [
        {
          "output_type": "execute_result",
          "data": {
            "text/plain": [
              "0.8210434102157635"
            ]
          },
          "metadata": {
            "tags": []
          },
          "execution_count": 20
        }
      ]
    },
    {
      "cell_type": "code",
      "metadata": {
        "id": "PRD9Xo6BPvLX",
        "colab_type": "code",
        "outputId": "08cc33bb-1560-41c8-cc3f-7c94566f47fd",
        "colab": {
          "base_uri": "https://localhost:8080/",
          "height": 391
        }
      },
      "source": [
        "y_vals"
      ],
      "execution_count": 0,
      "outputs": [
        {
          "output_type": "execute_result",
          "data": {
            "text/plain": [
              "array([26.00681266, 11.62159523, 35.81891012, 35.47175906, 22.00546844,\n",
              "       11.49855468, 45.87963252, 12.13631956, 28.05085164, 26.29011992,\n",
              "       16.71555942, -0.21194619,  1.14403105, 29.79482019, 32.2272704 ,\n",
              "       24.14547816,  5.21495059, 18.59823394, 36.14140679, 27.985038  ,\n",
              "       14.45448906, 31.62626987, 12.51989847, 35.78495891, 25.45275106,\n",
              "       -0.59273919, 20.28696373,  9.42669387, 35.32679079, 20.1619124 ,\n",
              "       15.76083183, 30.12234776, 10.1679762 , 14.93025862, 16.97396902,\n",
              "       -0.1296428 , -0.40182803,  3.62976055, 20.1868889 , 29.07343846,\n",
              "       32.8570003 , 27.77242725, 49.88712308, 23.76525451, 30.695412  ,\n",
              "        8.98141351, 14.55810318, 12.03691127, 41.08200067, 25.00788073,\n",
              "       22.48009323, 26.90738417, 20.67926243,  9.42326601,  5.14358818,\n",
              "        7.09142279,  7.58882791, 40.82626352, 28.98804662, 10.3462773 ,\n",
              "        3.1455486 , 34.84318779,  6.21336   , 43.56242213,  8.03735234,\n",
              "        4.22059025,  9.43095264, 39.99520212, -1.98598321, 10.97770336,\n",
              "       20.50834356, -6.7364322 , 26.25682074, 38.46788195, 36.07724307,\n",
              "       11.81684029, 26.32007222, 21.38745301, 37.59587882, 30.53240204,\n",
              "       42.45354236, 33.80545915, 24.23383124, -5.11752715, 29.8146819 ,\n",
              "       26.8684066 , 21.00648344, 35.28685599, 31.29718593, 12.94725387,\n",
              "       26.60914711,  7.84199871, 40.1936374 ,  8.65242702, 25.17694818,\n",
              "       41.75468041, 39.78713728, 29.57635466, 31.64252747,  3.86228975])"
            ]
          },
          "metadata": {
            "tags": []
          },
          "execution_count": 21
        }
      ]
    },
    {
      "cell_type": "code",
      "metadata": {
        "id": "wUA_bxnX98Hn",
        "colab_type": "code",
        "outputId": "3478eea9-fbe8-445b-fe90-34bbda589326",
        "colab": {
          "base_uri": "https://localhost:8080/",
          "height": 288
        }
      },
      "source": [
        "pl.errorbar(x_vals, y_vals, yerr = uncertainties, fmt = '.')"
      ],
      "execution_count": 0,
      "outputs": [
        {
          "output_type": "execute_result",
          "data": {
            "text/plain": [
              "<ErrorbarContainer object of 3 artists>"
            ]
          },
          "metadata": {
            "tags": []
          },
          "execution_count": 22
        },
        {
          "output_type": "display_data",
          "data": {
            "image/png": "[encoded data removed]",
            "text/plain": [
              "<Figure size 432x288 with 1 Axes>"
            ]
          },
          "metadata": {
            "tags": []
          }
        }
      ]
    },
    {
      "cell_type": "code",
      "metadata": {
        "id": "bBkDZwHZ-gPI",
        "colab_type": "code",
        "colab": {}
      },
      "source": [
        "line?"
      ],
      "execution_count": 0,
      "outputs": []
    },
    {
      "cell_type": "code",
      "metadata": {
        "id": "6ljCrcQk-mt_",
        "colab_type": "code",
        "colab": {}
      },
      "source": [
        "def chi_square(data, xvals, a, b, unc):\n",
        "  residuals = data - line(xvals, a, b)\n",
        "  r_square = residuals**2\n",
        "  chi_square = r_square / unc**2\n",
        "  return chi_square.sum()"
      ],
      "execution_count": 0,
      "outputs": []
    },
    {
      "cell_type": "code",
      "metadata": {
        "id": "kmV4SbPlANGo",
        "colab_type": "code",
        "outputId": "59e4341a-e54f-4c31-f5cf-ce92402246fb",
        "colab": {
          "base_uri": "https://localhost:8080/",
          "height": 36
        }
      },
      "source": [
        "chi_square(y_vals, x_vals, 3, 4, uncertainties)"
      ],
      "execution_count": 0,
      "outputs": [
        {
          "output_type": "execute_result",
          "data": {
            "text/plain": [
              "1269.4991739989648"
            ]
          },
          "metadata": {
            "tags": []
          },
          "execution_count": 30
        }
      ]
    },
    {
      "cell_type": "code",
      "metadata": {
        "id": "w77T2JDNAUTP",
        "colab_type": "code",
        "colab": {}
      },
      "source": [
        "chi2 = np.zeros((100, 100))\n",
        "\n",
        "for i, a in enumerate(np.arange(0, 10, 0.1)):\n",
        "  for j, b in enumerate(np.arange(0, 10, 0.1)):\n",
        "    chi2[i,j] = chi_square(y_vals, x_vals, a, b, uncertainties)"
      ],
      "execution_count": 0,
      "outputs": []
    },
    {
      "cell_type": "code",
      "metadata": {
        "id": "55rceY_yBqy_",
        "colab_type": "code",
        "outputId": "d0d62088-b42b-42d0-c1e5-85f29d58780d",
        "colab": {
          "base_uri": "https://localhost:8080/",
          "height": 269
        }
      },
      "source": [
        "pl.imshow(chi2)\n",
        "pl.colorbar();"
      ],
      "execution_count": 0,
      "outputs": [
        {
          "output_type": "display_data",
          "data": {
            "image/png": "[encoded data removed]",
            "text/plain": [
              "<Figure size 432x288 with 2 Axes>"
            ]
          },
          "metadata": {
            "tags": []
          }
        }
      ]
    },
    {
      "cell_type": "code",
      "metadata": {
        "id": "VMqc8McjB3a-",
        "colab_type": "code",
        "colab": {}
      },
      "source": [
        ""
      ],
      "execution_count": 0,
      "outputs": []
    }
  ]
}