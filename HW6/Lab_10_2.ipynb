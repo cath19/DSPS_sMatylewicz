{
  "nbformat": 4,
  "nbformat_minor": 0,
  "metadata": {
    "colab": {
      "name": "Lab_10_2.ipynb",
      "provenance": [],
      "include_colab_link": true
    },
    "kernelspec": {
      "name": "python3",
      "display_name": "Python 3"
    }
  },
  "cells": [
    {
      "cell_type": "markdown",
      "metadata": {
        "id": "view-in-github",
        "colab_type": "text"
      },
      "source": [
        "<a href=\"https://colab.research.google.com/github/samuelmat/DSPS_sMatylewicz/blob/master/HW6/Lab_10_2.ipynb\" target=\"_parent\"><img src=\"https://colab.research.google.com/assets/colab-badge.svg\" alt=\"Open In Colab\"/></a>"
      ]
    },
    {
      "cell_type": "code",
      "metadata": {
        "id": "iuXzBQhyGX0Y",
        "colab_type": "code",
        "colab": {}
      },
      "source": [
        "import pandas as pd\n",
        "import scipy as sp\n",
        "from scipy import optimize\n",
        "import numpy as np\n",
        "from matplotlib import pylab as pl"
      ],
      "execution_count": 0,
      "outputs": []
    },
    {
      "cell_type": "code",
      "metadata": {
        "id": "Hutuey5nHeZA",
        "colab_type": "code",
        "colab": {}
      },
      "source": [
        "np.random.seed(555)"
      ],
      "execution_count": 0,
      "outputs": []
    },
    {
      "cell_type": "code",
      "metadata": {
        "id": "8_cTeSCRGv18",
        "colab_type": "code",
        "colab": {}
      },
      "source": [
        "x_vals = np.random.rand(100) * 10"
      ],
      "execution_count": 0,
      "outputs": []
    },
    {
      "cell_type": "code",
      "metadata": {
        "id": "tEIJxX8AHaMa",
        "colab_type": "code",
        "colab": {
          "base_uri": "https://localhost:8080/",
          "height": 391
        },
        "outputId": "865f5eb1-9abf-4f3f-eabe-8564ab103585"
      },
      "source": [
        "x_vals"
      ],
      "execution_count": 37,
      "outputs": [
        {
          "output_type": "execute_result",
          "data": {
            "text/plain": [
              "array([7.17834087, 0.47855133, 9.44471978, 6.8638004 , 5.81207334,\n",
              "       1.42678616, 9.45919181, 3.39990587, 6.20435458, 4.52959644,\n",
              "       2.3976742 , 0.34504591, 1.48593113, 8.10866174, 6.53105376,\n",
              "       5.44468685, 0.41194765, 4.68166251, 8.88746733, 4.76258557,\n",
              "       4.12488984, 6.16106538, 3.21416554, 5.80869263, 3.9661405 ,\n",
              "       0.20091368, 4.31395898, 4.11244512, 6.29061747, 5.02521894,\n",
              "       1.6212784 , 6.66897061, 1.35272291, 1.69937536, 2.20830313,\n",
              "       0.86670475, 0.46840069, 0.28908051, 4.3867962 , 8.08565064,\n",
              "       6.13362455, 6.6097222 , 9.28622121, 4.87345755, 6.38178521,\n",
              "       1.85093821, 2.50653771, 4.46628009, 9.72624065, 4.67703036,\n",
              "       4.07470269, 7.86091879, 3.71535104, 2.20143415, 3.07846727,\n",
              "       2.86184245, 1.47343012, 7.42969034, 7.94321078, 3.2902046 ,\n",
              "       0.62102981, 9.66696377, 0.34688228, 7.92288645, 0.2252943 ,\n",
              "       1.59693565, 1.46141363, 8.8278803 , 1.89545066, 3.34775168,\n",
              "       4.09820686, 0.57803204, 5.42383827, 8.46712172, 8.24706115,\n",
              "       2.40896531, 5.14537387, 3.54767054, 9.68326953, 7.49548167,\n",
              "       7.28264277, 8.45389758, 4.05044473, 1.08512712, 7.52632771,\n",
              "       5.87102173, 5.91753381, 8.95891913, 5.89576732, 1.41637776,\n",
              "       6.29725261, 0.69392551, 9.59370439, 2.75142674, 6.16366374,\n",
              "       8.90869314, 7.34897374, 8.89940481, 9.3192079 , 0.31458503])"
            ]
          },
          "metadata": {
            "tags": []
          },
          "execution_count": 37
        }
      ]
    },
    {
      "cell_type": "code",
      "metadata": {
        "id": "0Dr1LlQfHrt4",
        "colab_type": "code",
        "colab": {}
      },
      "source": [
        "def line(x, a, b):\n",
        "  \"\"\"\n",
        "  Takes two parameters (a and b) along with an array of x values. Return y array\n",
        "  \"\"\"\n",
        "  \n",
        "  return a * x + b"
      ],
      "execution_count": 0,
      "outputs": []
    },
    {
      "cell_type": "code",
      "metadata": {
        "id": "ylPczG6UIr04",
        "colab_type": "code",
        "colab": {}
      },
      "source": [
        "y_vals = line(x_vals, 4, 3)"
      ],
      "execution_count": 0,
      "outputs": []
    },
    {
      "cell_type": "code",
      "metadata": {
        "id": "JAfT2i7cI0rr",
        "colab_type": "code",
        "colab": {
          "base_uri": "https://localhost:8080/",
          "height": 283
        },
        "outputId": "85168bdd-0cb3-4943-d189-e3d01486464c"
      },
      "source": [
        "pl.plot(x_vals, y_vals, \".\")\n",
        "pl.xlabel(\"X-Values\")\n",
        "pl.ylabel(\"Y-Values\");"
      ],
      "execution_count": 40,
      "outputs": [
        {
          "output_type": "display_data",
          "data": {
            "image/png": "[encoded data removed]",
            "text/plain": [
              "<Figure size 432x288 with 1 Axes>"
            ]
          },
          "metadata": {
            "tags": []
          }
        }
      ]
    },
    {
      "cell_type": "code",
      "metadata": {
        "id": "VPtsdYHCJMj7",
        "colab_type": "code",
        "colab": {}
      },
      "source": [
        "scattered_y = np.random.randn(100) * 5"
      ],
      "execution_count": 0,
      "outputs": []
    },
    {
      "cell_type": "code",
      "metadata": {
        "id": "o7DnJ8ZgKBZl",
        "colab_type": "code",
        "colab": {
          "base_uri": "https://localhost:8080/",
          "height": 283
        },
        "outputId": "1afbe1c9-c941-4898-ed65-e7a8b243996b"
      },
      "source": [
        "y_vals += scattered_y\n",
        "\n",
        "pl.plot(x_vals, y_vals, \".\")\n",
        "pl.xlabel(\"X-Values\")\n",
        "pl.ylabel(\"Y-Values\");"
      ],
      "execution_count": 42,
      "outputs": [
        {
          "output_type": "display_data",
          "data": {
            "image/png": "[encoded data removed]",
            "text/plain": [
              "<Figure size 432x288 with 1 Axes>"
            ]
          },
          "metadata": {
            "tags": []
          }
        }
      ]
    },
    {
      "cell_type": "code",
      "metadata": {
        "id": "nWW6vfzqKLdU",
        "colab_type": "code",
        "colab": {}
      },
      "source": [
        "uncertainties = np.random.randn(100) * 7"
      ],
      "execution_count": 0,
      "outputs": []
    },
    {
      "cell_type": "code",
      "metadata": {
        "id": "PHsiAijBKinb",
        "colab_type": "code",
        "colab": {
          "base_uri": "https://localhost:8080/",
          "height": 283
        },
        "outputId": "42ec4739-4dc0-40a7-fd2a-e20c26a6d811"
      },
      "source": [
        "pl.errorbar(x_vals, y_vals, yerr = uncertainties, fmt = \".\")\n",
        "pl.xlabel(\"X-Values\")\n",
        "pl.ylabel(\"Y-Values\");"
      ],
      "execution_count": 44,
      "outputs": [
        {
          "output_type": "display_data",
          "data": {
            "image/png": "[encoded data removed]",
            "text/plain": [
              "<Figure size 432x288 with 1 Axes>"
            ]
          },
          "metadata": {
            "tags": []
          }
        }
      ]
    },
    {
      "cell_type": "code",
      "metadata": {
        "id": "AMr4OjlkK6KR",
        "colab_type": "code",
        "colab": {}
      },
      "source": [
        "popt, pcov = sp.optimize.curve_fit(line, x_vals, y_vals, p0 = [5, 0])"
      ],
      "execution_count": 0,
      "outputs": []
    },
    {
      "cell_type": "code",
      "metadata": {
        "id": "cqz6l_PzLZNx",
        "colab_type": "code",
        "colab": {
          "base_uri": "https://localhost:8080/",
          "height": 54
        },
        "outputId": "735bc024-74a9-448a-ba85-6db74e91b535"
      },
      "source": [
        "pcov"
      ],
      "execution_count": 47,
      "outputs": [
        {
          "output_type": "execute_result",
          "data": {
            "text/plain": [
              "array([[ 0.03279955, -0.15642658],\n",
              "       [-0.15642658,  1.02770122]])"
            ]
          },
          "metadata": {
            "tags": []
          },
          "execution_count": 47
        }
      ]
    },
    {
      "cell_type": "code",
      "metadata": {
        "id": "Td_udjjJMRVs",
        "colab_type": "code",
        "colab": {
          "base_uri": "https://localhost:8080/",
          "height": 302
        },
        "outputId": "842c228f-3dff-41d4-e967-94f60915ad99"
      },
      "source": [
        "pl.errorbar(x_vals, y_vals, yerr = uncertainties, fmt = \".\")\n",
        "pl.plot(x_vals, line(x_vals, popt[0], popt[1]), \"-\")\n",
        "pl.xlabel(\"X-Values\")\n",
        "pl.ylabel(\"Y-Values\")\n",
        "\n",
        "pl.fill_between(x_vals, line(x_vals, popt[0] + pcov[0][0]**0.5, popt[1] + pcov[1][1]**0.5), \n",
        "                line(x_vals, popt[0] + pcov[0][0]**0.5, popt[1] + pcov[1][1]**0.5), alpha = 0.5)"
      ],
      "execution_count": 49,
      "outputs": [
        {
          "output_type": "execute_result",
          "data": {
            "text/plain": [
              "<matplotlib.collections.PolyCollection at 0x7fa89c3da780>"
            ]
          },
          "metadata": {
            "tags": []
          },
          "execution_count": 49
        },
        {
          "output_type": "display_data",
          "data": {
            "image/png": "[encoded data removed]",
            "text/plain": [
              "<Figure size 432x288 with 1 Axes>"
            ]
          },
          "metadata": {
            "tags": []
          }
        }
      ]
    },
    {
      "cell_type": "code",
      "metadata": {
        "id": "9qs32KulN7iG",
        "colab_type": "code",
        "colab": {}
      },
      "source": [
        "import sklearn as skl\n",
        "from sklearn import datasets, linear_model\n",
        "from sklearn.metrics import mean_squared_error, r2_score"
      ],
      "execution_count": 0,
      "outputs": []
    },
    {
      "cell_type": "code",
      "metadata": {
        "id": "c3majwdBOVf1",
        "colab_type": "code",
        "colab": {
          "base_uri": "https://localhost:8080/",
          "height": 36
        },
        "outputId": "406437ab-98f4-4238-a786-dd69aaf2cf01"
      },
      "source": [
        "regr = skl.linear_model.LinearRegression()\n",
        "regr.fit(np.atleast_2d(x_vals).T, y_vals)"
      ],
      "execution_count": 51,
      "outputs": [
        {
          "output_type": "execute_result",
          "data": {
            "text/plain": [
              "LinearRegression(copy_X=True, fit_intercept=True, n_jobs=None, normalize=False)"
            ]
          },
          "metadata": {
            "tags": []
          },
          "execution_count": 51
        }
      ]
    },
    {
      "cell_type": "code",
      "metadata": {
        "id": "cXO8xX-1OvF7",
        "colab_type": "code",
        "colab": {
          "base_uri": "https://localhost:8080/",
          "height": 302
        },
        "outputId": "45946a5e-fbcd-46ce-eaa1-36edf4de5681"
      },
      "source": [
        "pl.errorbar(x_vals, y_vals, yerr = uncertainties, fmt = \".\")\n",
        "pl.plot(x_vals, line(x_vals, popt[0], popt[1]), \"-\")\n",
        "pl.xlabel(\"X-Values\")\n",
        "pl.ylabel(\"Y-Values\")\n",
        "\n",
        "pl.plot(x_vals, regr.predict(np.atleast_2d(x_vals).T))"
      ],
      "execution_count": 52,
      "outputs": [
        {
          "output_type": "execute_result",
          "data": {
            "text/plain": [
              "[<matplotlib.lines.Line2D at 0x7fa8962adbe0>]"
            ]
          },
          "metadata": {
            "tags": []
          },
          "execution_count": 52
        },
        {
          "output_type": "display_data",
          "data": {
            "image/png": "[encoded data removed]",
            "text/plain": [
              "<Figure size 432x288 with 1 Axes>"
            ]
          },
          "metadata": {
            "tags": []
          }
        }
      ]
    },
    {
      "cell_type": "code",
      "metadata": {
        "id": "VVhVj3nYPE3L",
        "colab_type": "code",
        "colab": {
          "base_uri": "https://localhost:8080/",
          "height": 36
        },
        "outputId": "88db8b8e-9ad8-449c-f1a3-7b772c56cda8"
      },
      "source": [
        "regr.score(np.atleast_2d(x_vals).T, y_vals)"
      ],
      "execution_count": 53,
      "outputs": [
        {
          "output_type": "execute_result",
          "data": {
            "text/plain": [
              "0.8416082125726227"
            ]
          },
          "metadata": {
            "tags": []
          },
          "execution_count": 53
        }
      ]
    },
    {
      "cell_type": "code",
      "metadata": {
        "id": "XMBhp6L6PMhu",
        "colab_type": "code",
        "colab": {
          "base_uri": "https://localhost:8080/",
          "height": 36
        },
        "outputId": "a3416b04-e0d2-41dc-a5f8-70c939bfcdbb"
      },
      "source": [
        "regr.fit(np.atleast_2d(x_vals[75:]).T, y_vals[75:])"
      ],
      "execution_count": 57,
      "outputs": [
        {
          "output_type": "execute_result",
          "data": {
            "text/plain": [
              "LinearRegression(copy_X=True, fit_intercept=True, n_jobs=None, normalize=False)"
            ]
          },
          "metadata": {
            "tags": []
          },
          "execution_count": 57
        }
      ]
    },
    {
      "cell_type": "code",
      "metadata": {
        "id": "jKLeQf2QPevY",
        "colab_type": "code",
        "colab": {
          "base_uri": "https://localhost:8080/",
          "height": 36
        },
        "outputId": "1c67c37d-be17-4caf-ec79-3675bbe35a35"
      },
      "source": [
        "regr.score(np.atleast_2d(x_vals[75:]).T, y_vals[75:])"
      ],
      "execution_count": 58,
      "outputs": [
        {
          "output_type": "execute_result",
          "data": {
            "text/plain": [
              "0.8210434102157635"
            ]
          },
          "metadata": {
            "tags": []
          },
          "execution_count": 58
        }
      ]
    },
    {
      "cell_type": "code",
      "metadata": {
        "id": "PRD9Xo6BPvLX",
        "colab_type": "code",
        "colab": {}
      },
      "source": [
        ""
      ],
      "execution_count": 0,
      "outputs": []
    }
  ]
}