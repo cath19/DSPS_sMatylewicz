{
 "cells": [
  {
   "cell_type": "markdown",
   "metadata": {
    "colab_type": "text",
    "id": "view-in-github"
   },
   "source": [
    "<a href=\"https://colab.research.google.com/github/samuelmat/DSPS_sMatylewicz/blob/master/HW5/Lab_9_25.ipynb\" target=\"_parent\"><img src=\"https://colab.research.google.com/assets/colab-badge.svg\" alt=\"Open In Colab\"/></a>"
   ]
  },
  {
   "cell_type": "code",
   "execution_count": 2,
   "metadata": {
    "colab": {
     "base_uri": "https://localhost:8080/",
     "height": 131
    },
    "colab_type": "code",
    "id": "dTZfiqJXGXpD",
    "outputId": "b80ed5fc-02a9-43f8-c3c5-e7670915cb66"
   },
   "outputs": [
    {
     "name": "stdout",
     "output_type": "stream",
     "text": [
      "Go to this URL in a browser: https://accounts.google.com/o/oauth2/auth?client_id=947318989803-6bn6qk8qdgf4n4g3pfee6491hc0brc4i.apps.googleusercontent.com&redirect_uri=urn%3Aietf%3Awg%3Aoauth%3A2.0%3Aoob&scope=email%20https%3A%2F%2Fwww.googleapis.com%2Fauth%2Fdocs.test%20https%3A%2F%2Fwww.googleapis.com%2Fauth%2Fdrive%20https%3A%2F%2Fwww.googleapis.com%2Fauth%2Fdrive.photos.readonly%20https%3A%2F%2Fwww.googleapis.com%2Fauth%2Fpeopleapi.readonly&response_type=code\n",
      "\n",
      "Enter your authorization code:\n",
      "··········\n",
      "Mounted at /content/drive\n"
     ]
    }
   ],
   "source": [
    "from google.colab import drive\n",
    "drive.mount(\"/content/drive\")"
   ]
  },
  {
   "cell_type": "code",
   "execution_count": 3,
   "metadata": {
    "colab": {
     "base_uri": "https://localhost:8080/",
     "height": 36
    },
    "colab_type": "code",
    "id": "__VCakp0GgDu",
    "outputId": "883b2aea-a863-4e3b-8766-6bc1feb3f006"
   },
   "outputs": [
    {
     "name": "stdout",
     "output_type": "stream",
     "text": [
      "\u001b[0m\u001b[01;34mdrive\u001b[0m/  \u001b[01;34msample_data\u001b[0m/  zbp10totals.zip\n"
     ]
    }
   ],
   "source": [
    "ls"
   ]
  },
  {
   "cell_type": "code",
   "execution_count": 4,
   "metadata": {
    "colab": {
     "base_uri": "https://localhost:8080/",
     "height": 36
    },
    "colab_type": "code",
    "id": "aySbzLifGpKF",
    "outputId": "fa641c01-57db-4bd0-bcec-b8c868d8dad2"
   },
   "outputs": [
    {
     "data": {
      "text/plain": [
       "'/content'"
      ]
     },
     "execution_count": 4,
     "metadata": {
      "tags": []
     },
     "output_type": "execute_result"
    }
   ],
   "source": [
    "pwd"
   ]
  },
  {
   "cell_type": "code",
   "execution_count": 5,
   "metadata": {
    "colab": {
     "base_uri": "https://localhost:8080/",
     "height": 223
    },
    "colab_type": "code",
    "id": "7EC4hXMgGp6d",
    "outputId": "9e813fd4-e2c9-44ee-cb27-b7fd8aca53e9"
   },
   "outputs": [
    {
     "name": "stdout",
     "output_type": "stream",
     "text": [
      "--2019-09-30 21:34:33--  https://www2.census.gov/programs-surveys/cbp/datasets/2016/zbp16totals.zip\n",
      "Resolving www2.census.gov (www2.census.gov)... 23.46.200.113, 2600:1402:3800:29d::208c, 2600:1402:3800:29f::208c\n",
      "Connecting to www2.census.gov (www2.census.gov)|23.46.200.113|:443... connected.\n",
      "HTTP request sent, awaiting response... 200 OK\n",
      "Length: unspecified [application/zip]\n",
      "Saving to: ‘zbp16totals.zip’\n",
      "\n",
      "\r",
      "zbp16totals.zip         [<=>                 ]       0  --.-KB/s               \r",
      "zbp16totals.zip         [ <=>                ] 750.30K  --.-KB/s    in 0.1s    \n",
      "\n",
      "2019-09-30 21:34:33 (6.08 MB/s) - ‘zbp16totals.zip’ saved [768303]\n",
      "\n"
     ]
    }
   ],
   "source": [
    "!wget https://www2.census.gov/programs-surveys/cbp/datasets/2016/zbp16totals.zip"
   ]
  },
  {
   "cell_type": "code",
   "execution_count": 6,
   "metadata": {
    "colab": {
     "base_uri": "https://localhost:8080/",
     "height": 36
    },
    "colab_type": "code",
    "id": "noG0tf5eHLHU",
    "outputId": "9c4d1fee-4eb6-42cc-9956-bf7263dcee7c"
   },
   "outputs": [
    {
     "name": "stdout",
     "output_type": "stream",
     "text": [
      "\u001b[0m\u001b[01;34mdrive\u001b[0m/  \u001b[01;34msample_data\u001b[0m/  zbp10totals.zip  zbp16totals.zip\n"
     ]
    }
   ],
   "source": [
    "ls"
   ]
  },
  {
   "cell_type": "code",
   "execution_count": 7,
   "metadata": {
    "colab": {
     "base_uri": "https://localhost:8080/",
     "height": 54
    },
    "colab_type": "code",
    "id": "HAVQLUUPHNTP",
    "outputId": "4b1d53ed-8800-4533-e373-c828e374fade"
   },
   "outputs": [
    {
     "name": "stdout",
     "output_type": "stream",
     "text": [
      "Archive:  zbp16totals.zip\n",
      "  inflating: drive/My Drive/test_dir/zbp16totals.txt  \n"
     ]
    }
   ],
   "source": [
    "!unzip zbp16totals.zip -d \"drive/My Drive/test_dir\""
   ]
  },
  {
   "cell_type": "code",
   "execution_count": 0,
   "metadata": {
    "colab": {},
    "colab_type": "code",
    "id": "QPxCtzuZHV4S"
   },
   "outputs": [],
   "source": [
    "import os"
   ]
  },
  {
   "cell_type": "code",
   "execution_count": 9,
   "metadata": {
    "colab": {
     "base_uri": "https://localhost:8080/",
     "height": 36
    },
    "colab_type": "code",
    "id": "lH3hw-qaHZd5",
    "outputId": "4fa246fd-ecfa-47d2-a406-ceda541b86ab"
   },
   "outputs": [
    {
     "data": {
      "text/plain": [
       "256"
      ]
     },
     "execution_count": 9,
     "metadata": {
      "tags": []
     },
     "output_type": "execute_result"
    }
   ],
   "source": [
    "cmd = \"rm -r drive/My Drive/test_dir\"\n",
    "os.system(cmd)"
   ]
  },
  {
   "cell_type": "code",
   "execution_count": 10,
   "metadata": {
    "colab": {
     "base_uri": "https://localhost:8080/",
     "height": 36
    },
    "colab_type": "code",
    "id": "VzF7nzsAHtd-",
    "outputId": "461f4dee-dba8-4010-ffb4-62b5dd608444"
   },
   "outputs": [
    {
     "data": {
      "text/plain": [
       "0"
      ]
     },
     "execution_count": 10,
     "metadata": {
      "tags": []
     },
     "output_type": "execute_result"
    }
   ],
   "source": [
    "cmd = \"rm -r drive/My\\ Drive/test_dir\"\n",
    "os.system(cmd)"
   ]
  },
  {
   "cell_type": "code",
   "execution_count": 11,
   "metadata": {
    "colab": {
     "base_uri": "https://localhost:8080/",
     "height": 36
    },
    "colab_type": "code",
    "id": "oaf2QzoaH-Vu",
    "outputId": "a6fc59da-8cf9-4216-8515-0b479c10a630"
   },
   "outputs": [
    {
     "name": "stdout",
     "output_type": "stream",
     "text": [
      "mkdir: cannot create directory ‘drive/My Drive/dsps’: File exists\n"
     ]
    }
   ],
   "source": [
    "mkdir \"drive/My Drive/dsps\""
   ]
  },
  {
   "cell_type": "code",
   "execution_count": 13,
   "metadata": {
    "colab": {
     "base_uri": "https://localhost:8080/",
     "height": 267
    },
    "colab_type": "code",
    "id": "ZtMD5NOVJ2oy",
    "outputId": "f30f5e98-7016-4c8a-b3dc-8be35497668e"
   },
   "outputs": [
    {
     "name": "stdout",
     "output_type": "stream",
     "text": [
      "downloading year 2010\n"
     ]
    },
    {
     "ename": "TypeError",
     "evalue": "ignored",
     "output_type": "error",
     "traceback": [
      "\u001b[0;31m---------------------------------------------------------------------------\u001b[0m",
      "\u001b[0;31mTypeError\u001b[0m                                 Traceback (most recent call last)",
      "\u001b[0;32m<ipython-input-13-fabe2739024f>\u001b[0m in \u001b[0;36m<module>\u001b[0;34m()\u001b[0m\n\u001b[1;32m     24\u001b[0m \u001b[0;34m\u001b[0m\u001b[0m\n\u001b[1;32m     25\u001b[0m   \u001b[0;31m# -- execute the wget command and check\u001b[0m\u001b[0;34m\u001b[0m\u001b[0;34m\u001b[0m\u001b[0;34m\u001b[0m\u001b[0m\n\u001b[0;32m---> 26\u001b[0;31m   \u001b[0mos\u001b[0m\u001b[0;34m.\u001b[0m\u001b[0msystem\u001b[0m\u001b[0;34m(\u001b[0m\u001b[0mcmd_wget\u001b[0m\u001b[0;34m)\u001b[0m\u001b[0;34m\u001b[0m\u001b[0;34m\u001b[0m\u001b[0m\n\u001b[0m\u001b[1;32m     27\u001b[0m \u001b[0;34m\u001b[0m\u001b[0m\n\u001b[1;32m     28\u001b[0m   \u001b[0;31m# -- alert on progress\u001b[0m\u001b[0;34m\u001b[0m\u001b[0;34m\u001b[0m\u001b[0;34m\u001b[0m\u001b[0m\n",
      "\u001b[0;31mTypeError\u001b[0m: expected str, bytes or os.PathLike object, not SList"
     ]
    }
   ],
   "source": [
    "path = \"drive/My Drive/dsps\"\n",
    "\n",
    "# create the directory as above. \n",
    "# Use glob.glob to see if it is there and capture the output of os.system to see if you have an error\n",
    "[...]\n",
    "\n",
    "# -- loop through the years for which we want the zbp data\n",
    "for ii in [10,11,12,13,14,15]: \n",
    "  \n",
    "  # -- convert year to string\n",
    "  snum = str(ii)\n",
    "\n",
    "  # -- build the wget command\n",
    "  cmd_wget = !wget https://www2.census.gov/programs-surveys/cbp/datasets/20{ii}/zbp{ii}totals.zip\n",
    "\n",
    "  # -- build the unzip command\n",
    "  cmd_unzip = !unzip https://www2.census.gov/programs-surveys/cbp/datasets/20{ii}/zbp{ii}totals.zip\n",
    "\n",
    "    # -- build the remove command\n",
    "  cmd_rm = !rm https://www2.census.gov/programs-surveys/cbp/datasets/20{ii}/zbp{ii}totals.zip\n",
    "  \n",
    "  # -- alert on progress\n",
    "  print(\"downloading year 20{}\".format(snum))\n",
    "  \n",
    "  # -- execute the wget command and check\n",
    "  os.system(cmd_wget)\n",
    "  \n",
    "  # -- alert on progress\n",
    "  print(\"moving file...\")\n",
    "  \n",
    "  os.system(cmd_unzip)\n",
    "  \n",
    "  # -- alert on progress\n",
    "  print(\"...\")\n",
    "  \n",
    "  os.system(cmd_rm)"
   ]
  },
  {
   "cell_type": "markdown",
   "metadata": {},
   "source": [
    "<span style=\"color:red\">**-0.5 pt: unrunnable code, each command has to be in str format.**</span>"
   ]
  },
  {
   "cell_type": "code",
   "execution_count": 0,
   "metadata": {
    "colab": {},
    "colab_type": "code",
    "id": "qsa6t6zbGZN0"
   },
   "outputs": [],
   "source": []
  }
 ],
 "metadata": {
  "colab": {
   "include_colab_link": true,
   "name": "Lab_9_25.ipynb",
   "provenance": []
  },
  "kernelspec": {
   "display_name": "Python 3",
   "language": "python",
   "name": "python3"
  },
  "language_info": {
   "codemirror_mode": {
    "name": "ipython",
    "version": 3
   },
   "file_extension": ".py",
   "mimetype": "text/x-python",
   "name": "python",
   "nbconvert_exporter": "python",
   "pygments_lexer": "ipython3",
   "version": "3.6.8"
  }
 },
 "nbformat": 4,
 "nbformat_minor": 1
}
