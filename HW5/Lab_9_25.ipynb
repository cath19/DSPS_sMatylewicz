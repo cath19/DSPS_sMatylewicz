{
  "nbformat": 4,
  "nbformat_minor": 0,
  "metadata": {
    "colab": {
      "name": "Lab_9_25.ipynb",
      "provenance": [],
      "include_colab_link": true
    },
    "kernelspec": {
      "name": "python3",
      "display_name": "Python 3"
    }
  },
  "cells": [
    {
      "cell_type": "markdown",
      "metadata": {
        "id": "view-in-github",
        "colab_type": "text"
      },
      "source": [
        "<a href=\"https://colab.research.google.com/github/samuelmat/DSPS_sMatylewicz/blob/master/HW5/Lab_9_25.ipynb\" target=\"_parent\"><img src=\"https://colab.research.google.com/assets/colab-badge.svg\" alt=\"Open In Colab\"/></a>"
      ]
    },
    {
      "cell_type": "code",
      "metadata": {
        "id": "dTZfiqJXGXpD",
        "colab_type": "code",
        "colab": {
          "base_uri": "https://localhost:8080/",
          "height": 131
        },
        "outputId": "b80ed5fc-02a9-43f8-c3c5-e7670915cb66"
      },
      "source": [
        "from google.colab import drive\n",
        "drive.mount(\"/content/drive\")"
      ],
      "execution_count": 2,
      "outputs": [
        {
          "output_type": "stream",
          "text": [
            "Go to this URL in a browser: https://accounts.google.com/o/oauth2/auth?client_id=947318989803-6bn6qk8qdgf4n4g3pfee6491hc0brc4i.apps.googleusercontent.com&redirect_uri=urn%3Aietf%3Awg%3Aoauth%3A2.0%3Aoob&scope=email%20https%3A%2F%2Fwww.googleapis.com%2Fauth%2Fdocs.test%20https%3A%2F%2Fwww.googleapis.com%2Fauth%2Fdrive%20https%3A%2F%2Fwww.googleapis.com%2Fauth%2Fdrive.photos.readonly%20https%3A%2F%2Fwww.googleapis.com%2Fauth%2Fpeopleapi.readonly&response_type=code\n",
            "\n",
            "Enter your authorization code:\n",
            "··········\n",
            "Mounted at /content/drive\n"
          ],
          "name": "stdout"
        }
      ]
    },
    {
      "cell_type": "code",
      "metadata": {
        "id": "__VCakp0GgDu",
        "colab_type": "code",
        "colab": {
          "base_uri": "https://localhost:8080/",
          "height": 36
        },
        "outputId": "883b2aea-a863-4e3b-8766-6bc1feb3f006"
      },
      "source": [
        "ls"
      ],
      "execution_count": 3,
      "outputs": [
        {
          "output_type": "stream",
          "text": [
            "\u001b[0m\u001b[01;34mdrive\u001b[0m/  \u001b[01;34msample_data\u001b[0m/  zbp10totals.zip\n"
          ],
          "name": "stdout"
        }
      ]
    },
    {
      "cell_type": "code",
      "metadata": {
        "id": "aySbzLifGpKF",
        "colab_type": "code",
        "colab": {
          "base_uri": "https://localhost:8080/",
          "height": 36
        },
        "outputId": "fa641c01-57db-4bd0-bcec-b8c868d8dad2"
      },
      "source": [
        "pwd"
      ],
      "execution_count": 4,
      "outputs": [
        {
          "output_type": "execute_result",
          "data": {
            "text/plain": [
              "'/content'"
            ]
          },
          "metadata": {
            "tags": []
          },
          "execution_count": 4
        }
      ]
    },
    {
      "cell_type": "code",
      "metadata": {
        "id": "7EC4hXMgGp6d",
        "colab_type": "code",
        "colab": {
          "base_uri": "https://localhost:8080/",
          "height": 223
        },
        "outputId": "9e813fd4-e2c9-44ee-cb27-b7fd8aca53e9"
      },
      "source": [
        "!wget https://www2.census.gov/programs-surveys/cbp/datasets/2016/zbp16totals.zip"
      ],
      "execution_count": 5,
      "outputs": [
        {
          "output_type": "stream",
          "text": [
            "--2019-09-30 21:34:33--  https://www2.census.gov/programs-surveys/cbp/datasets/2016/zbp16totals.zip\n",
            "Resolving www2.census.gov (www2.census.gov)... 23.46.200.113, 2600:1402:3800:29d::208c, 2600:1402:3800:29f::208c\n",
            "Connecting to www2.census.gov (www2.census.gov)|23.46.200.113|:443... connected.\n",
            "HTTP request sent, awaiting response... 200 OK\n",
            "Length: unspecified [application/zip]\n",
            "Saving to: ‘zbp16totals.zip’\n",
            "\n",
            "\rzbp16totals.zip         [<=>                 ]       0  --.-KB/s               \rzbp16totals.zip         [ <=>                ] 750.30K  --.-KB/s    in 0.1s    \n",
            "\n",
            "2019-09-30 21:34:33 (6.08 MB/s) - ‘zbp16totals.zip’ saved [768303]\n",
            "\n"
          ],
          "name": "stdout"
        }
      ]
    },
    {
      "cell_type": "code",
      "metadata": {
        "id": "noG0tf5eHLHU",
        "colab_type": "code",
        "colab": {
          "base_uri": "https://localhost:8080/",
          "height": 36
        },
        "outputId": "9c4d1fee-4eb6-42cc-9956-bf7263dcee7c"
      },
      "source": [
        "ls"
      ],
      "execution_count": 6,
      "outputs": [
        {
          "output_type": "stream",
          "text": [
            "\u001b[0m\u001b[01;34mdrive\u001b[0m/  \u001b[01;34msample_data\u001b[0m/  zbp10totals.zip  zbp16totals.zip\n"
          ],
          "name": "stdout"
        }
      ]
    },
    {
      "cell_type": "code",
      "metadata": {
        "id": "HAVQLUUPHNTP",
        "colab_type": "code",
        "colab": {
          "base_uri": "https://localhost:8080/",
          "height": 54
        },
        "outputId": "4b1d53ed-8800-4533-e373-c828e374fade"
      },
      "source": [
        "!unzip zbp16totals.zip -d \"drive/My Drive/test_dir\""
      ],
      "execution_count": 7,
      "outputs": [
        {
          "output_type": "stream",
          "text": [
            "Archive:  zbp16totals.zip\n",
            "  inflating: drive/My Drive/test_dir/zbp16totals.txt  \n"
          ],
          "name": "stdout"
        }
      ]
    },
    {
      "cell_type": "code",
      "metadata": {
        "id": "QPxCtzuZHV4S",
        "colab_type": "code",
        "colab": {}
      },
      "source": [
        "import os"
      ],
      "execution_count": 0,
      "outputs": []
    },
    {
      "cell_type": "code",
      "metadata": {
        "id": "lH3hw-qaHZd5",
        "colab_type": "code",
        "colab": {
          "base_uri": "https://localhost:8080/",
          "height": 36
        },
        "outputId": "4fa246fd-ecfa-47d2-a406-ceda541b86ab"
      },
      "source": [
        "cmd = \"rm -r drive/My Drive/test_dir\"\n",
        "os.system(cmd)"
      ],
      "execution_count": 9,
      "outputs": [
        {
          "output_type": "execute_result",
          "data": {
            "text/plain": [
              "256"
            ]
          },
          "metadata": {
            "tags": []
          },
          "execution_count": 9
        }
      ]
    },
    {
      "cell_type": "code",
      "metadata": {
        "id": "VzF7nzsAHtd-",
        "colab_type": "code",
        "colab": {
          "base_uri": "https://localhost:8080/",
          "height": 36
        },
        "outputId": "461f4dee-dba8-4010-ffb4-62b5dd608444"
      },
      "source": [
        "cmd = \"rm -r drive/My\\ Drive/test_dir\"\n",
        "os.system(cmd)"
      ],
      "execution_count": 10,
      "outputs": [
        {
          "output_type": "execute_result",
          "data": {
            "text/plain": [
              "0"
            ]
          },
          "metadata": {
            "tags": []
          },
          "execution_count": 10
        }
      ]
    },
    {
      "cell_type": "code",
      "metadata": {
        "id": "oaf2QzoaH-Vu",
        "colab_type": "code",
        "colab": {
          "base_uri": "https://localhost:8080/",
          "height": 36
        },
        "outputId": "a6fc59da-8cf9-4216-8515-0b479c10a630"
      },
      "source": [
        "mkdir \"drive/My Drive/dsps\""
      ],
      "execution_count": 11,
      "outputs": [
        {
          "output_type": "stream",
          "text": [
            "mkdir: cannot create directory ‘drive/My Drive/dsps’: File exists\n"
          ],
          "name": "stdout"
        }
      ]
    },
    {
      "cell_type": "code",
      "metadata": {
        "id": "ZtMD5NOVJ2oy",
        "colab_type": "code",
        "colab": {
          "base_uri": "https://localhost:8080/",
          "height": 267
        },
        "outputId": "f30f5e98-7016-4c8a-b3dc-8be35497668e"
      },
      "source": [
        "path = \"drive/My Drive/dsps\"\n",
        "\n",
        "# create the directory as above. \n",
        "# Use glob.glob to see if it is there and capture the output of os.system to see if you have an error\n",
        "[...]\n",
        "\n",
        "# -- loop through the years for which we want the zbp data\n",
        "for ii in [10,11,12,13,14,15]: \n",
        "  \n",
        "  # -- convert year to string\n",
        "  snum = str(ii)\n",
        "\n",
        "  # -- build the wget command\n",
        "  cmd_wget = !wget https://www2.census.gov/programs-surveys/cbp/datasets/20{ii}/zbp{ii}totals.zip\n",
        "\n",
        "  # -- build the unzip command\n",
        "  cmd_unzip = !unzip https://www2.census.gov/programs-surveys/cbp/datasets/20{ii}/zbp{ii}totals.zip\n",
        "\n",
        "    # -- build the remove command\n",
        "  cmd_rm = !rm https://www2.census.gov/programs-surveys/cbp/datasets/20{ii}/zbp{ii}totals.zip\n",
        "  \n",
        "  # -- alert on progress\n",
        "  print(\"downloading year 20{}\".format(snum))\n",
        "  \n",
        "  # -- execute the wget command and check\n",
        "  os.system(cmd_wget)\n",
        "  \n",
        "  # -- alert on progress\n",
        "  print(\"moving file...\")\n",
        "  \n",
        "  os.system(cmd_unzip)\n",
        "  \n",
        "  # -- alert on progress\n",
        "  print(\"...\")\n",
        "  \n",
        "  os.system(cmd_rm)"
      ],
      "execution_count": 13,
      "outputs": [
        {
          "output_type": "stream",
          "text": [
            "downloading year 2010\n"
          ],
          "name": "stdout"
        },
        {
          "output_type": "error",
          "ename": "TypeError",
          "evalue": "ignored",
          "traceback": [
            "\u001b[0;31m---------------------------------------------------------------------------\u001b[0m",
            "\u001b[0;31mTypeError\u001b[0m                                 Traceback (most recent call last)",
            "\u001b[0;32m<ipython-input-13-fabe2739024f>\u001b[0m in \u001b[0;36m<module>\u001b[0;34m()\u001b[0m\n\u001b[1;32m     24\u001b[0m \u001b[0;34m\u001b[0m\u001b[0m\n\u001b[1;32m     25\u001b[0m   \u001b[0;31m# -- execute the wget command and check\u001b[0m\u001b[0;34m\u001b[0m\u001b[0;34m\u001b[0m\u001b[0;34m\u001b[0m\u001b[0m\n\u001b[0;32m---> 26\u001b[0;31m   \u001b[0mos\u001b[0m\u001b[0;34m.\u001b[0m\u001b[0msystem\u001b[0m\u001b[0;34m(\u001b[0m\u001b[0mcmd_wget\u001b[0m\u001b[0;34m)\u001b[0m\u001b[0;34m\u001b[0m\u001b[0;34m\u001b[0m\u001b[0m\n\u001b[0m\u001b[1;32m     27\u001b[0m \u001b[0;34m\u001b[0m\u001b[0m\n\u001b[1;32m     28\u001b[0m   \u001b[0;31m# -- alert on progress\u001b[0m\u001b[0;34m\u001b[0m\u001b[0;34m\u001b[0m\u001b[0;34m\u001b[0m\u001b[0m\n",
            "\u001b[0;31mTypeError\u001b[0m: expected str, bytes or os.PathLike object, not SList"
          ]
        }
      ]
    },
    {
      "cell_type": "code",
      "metadata": {
        "id": "qsa6t6zbGZN0",
        "colab_type": "code",
        "colab": {}
      },
      "source": [
        ""
      ],
      "execution_count": 0,
      "outputs": []
    }
  ]
}