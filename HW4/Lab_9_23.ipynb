{
  "nbformat": 4,
  "nbformat_minor": 0,
  "metadata": {
    "colab": {
      "name": "Lab_9_23.ipynb",
      "provenance": [],
      "include_colab_link": true
    },
    "kernelspec": {
      "name": "python3",
      "display_name": "Python 3"
    }
  },
  "cells": [
    {
      "cell_type": "markdown",
      "metadata": {
        "id": "view-in-github",
        "colab_type": "text"
      },
      "source": [
        "<a href=\"https://colab.research.google.com/github/samuelmat/DSPS_sMatylewicz/blob/master/HW4/Lab_9_23.ipynb\" target=\"_parent\"><img src=\"https://colab.research.google.com/assets/colab-badge.svg\" alt=\"Open In Colab\"/></a>"
      ]
    },
    {
      "cell_type": "code",
      "metadata": {
        "id": "uy0Y6-A52h8H",
        "colab_type": "code",
        "colab": {
          "base_uri": "https://localhost:8080/",
          "height": 131
        },
        "outputId": "0bcc9013-55b9-43c8-cd75-843924d96dfa"
      },
      "source": [
        "from google.colab import drive\n",
        "drive.mount('/content/drive')"
      ],
      "execution_count": 1,
      "outputs": [
        {
          "output_type": "stream",
          "text": [
            "Go to this URL in a browser: https://accounts.google.com/o/oauth2/auth?client_id=947318989803-6bn6qk8qdgf4n4g3pfee6491hc0brc4i.apps.googleusercontent.com&redirect_uri=urn%3Aietf%3Awg%3Aoauth%3A2.0%3Aoob&scope=email%20https%3A%2F%2Fwww.googleapis.com%2Fauth%2Fdocs.test%20https%3A%2F%2Fwww.googleapis.com%2Fauth%2Fdrive%20https%3A%2F%2Fwww.googleapis.com%2Fauth%2Fdrive.photos.readonly%20https%3A%2F%2Fwww.googleapis.com%2Fauth%2Fpeopleapi.readonly&response_type=code\n",
            "\n",
            "Enter your authorization code:\n",
            "··········\n",
            "Mounted at /content/drive\n"
          ],
          "name": "stdout"
        }
      ]
    },
    {
      "cell_type": "code",
      "metadata": {
        "id": "55rJT1Fq3aKf",
        "colab_type": "code",
        "colab": {
          "base_uri": "https://localhost:8080/",
          "height": 372
        },
        "outputId": "1614ed26-05bc-4fbd-e65e-13259547f40f"
      },
      "source": [
        "ls \"drive/My Drive\""
      ],
      "execution_count": 4,
      "outputs": [
        {
          "output_type": "stream",
          "text": [
            "'240 no start.pdf'\n",
            " backplate.dxf\n",
            "\u001b[0m\u001b[01;34m'Colab Notebooks'\u001b[0m/\n",
            "'CPEG202 Final 18-21 key.gdoc'\n",
            " \u001b[01;34mELEG310\u001b[0m/\n",
            "'Failure Analysis, Fixes, and Long Term Reliability Testing of Components for Electric Vehicles.gdoc'\n",
            " First_Baptist_Church_New_Castle.docx\n",
            " First_Baptist_Church_New_Castle.gdoc\n",
            "'Getting started.pdf'\n",
            "'Miller _ Spoolman Environmental Science 13th txtbk.pdf'\n",
            " Moist.gdoc\n",
            " \u001b[01;34mPHYS207\u001b[0m/\n",
            " Poster.gslides\n",
            " prop.dxf\n",
            "'Radar Presentation.gdoc'\n",
            "'Secret Santa.gdoc'\n",
            " Sliders.zip\n",
            "\u001b[01;34m'UD GIV Engineering'\u001b[0m/\n",
            "'Untitled presentation.gslides'\n"
          ],
          "name": "stdout"
        }
      ]
    },
    {
      "cell_type": "code",
      "metadata": {
        "id": "RTaUKDlK3nJf",
        "colab_type": "code",
        "colab": {
          "base_uri": "https://localhost:8080/",
          "height": 372
        },
        "outputId": "da9bf209-5c25-4d97-95ef-9c606a373a12"
      },
      "source": [
        "ls \"drive/My Drive\""
      ],
      "execution_count": 5,
      "outputs": [
        {
          "output_type": "stream",
          "text": [
            "'240 no start.pdf'\n",
            " backplate.dxf\n",
            "\u001b[0m\u001b[01;34m'Colab Notebooks'\u001b[0m/\n",
            "'CPEG202 Final 18-21 key.gdoc'\n",
            " \u001b[01;34mELEG310\u001b[0m/\n",
            "'Failure Analysis, Fixes, and Long Term Reliability Testing of Components for Electric Vehicles.gdoc'\n",
            " First_Baptist_Church_New_Castle.docx\n",
            " First_Baptist_Church_New_Castle.gdoc\n",
            "'Getting started.pdf'\n",
            "'Miller _ Spoolman Environmental Science 13th txtbk.pdf'\n",
            " Moist.gdoc\n",
            " \u001b[01;34mPHYS207\u001b[0m/\n",
            " Poster.gslides\n",
            " prop.dxf\n",
            "'Radar Presentation.gdoc'\n",
            "'Secret Santa.gdoc'\n",
            " Sliders.zip\n",
            "\u001b[01;34m'UD GIV Engineering'\u001b[0m/\n",
            "'Untitled presentation.gslides'\n"
          ],
          "name": "stdout"
        }
      ]
    },
    {
      "cell_type": "code",
      "metadata": {
        "id": "sjx-O-uj4hGV",
        "colab_type": "code",
        "colab": {}
      },
      "source": [
        "mkdir \"drive/My Drive/test_dir\""
      ],
      "execution_count": 0,
      "outputs": []
    },
    {
      "cell_type": "code",
      "metadata": {
        "id": "4RrxpQJ64vKw",
        "colab_type": "code",
        "colab": {
          "base_uri": "https://localhost:8080/",
          "height": 391
        },
        "outputId": "048df756-8a9f-4569-fa25-76cc4b0f200a"
      },
      "source": [
        "ls \"drive/My Drive\""
      ],
      "execution_count": 7,
      "outputs": [
        {
          "output_type": "stream",
          "text": [
            "'240 no start.pdf'\n",
            " backplate.dxf\n",
            "\u001b[0m\u001b[01;34m'Colab Notebooks'\u001b[0m/\n",
            "'CPEG202 Final 18-21 key.gdoc'\n",
            " \u001b[01;34mELEG310\u001b[0m/\n",
            "'Failure Analysis, Fixes, and Long Term Reliability Testing of Components for Electric Vehicles.gdoc'\n",
            " First_Baptist_Church_New_Castle.docx\n",
            " First_Baptist_Church_New_Castle.gdoc\n",
            "'Getting started.pdf'\n",
            "'Miller _ Spoolman Environmental Science 13th txtbk.pdf'\n",
            " Moist.gdoc\n",
            " \u001b[01;34mPHYS207\u001b[0m/\n",
            " Poster.gslides\n",
            " prop.dxf\n",
            "'Radar Presentation.gdoc'\n",
            "'Secret Santa.gdoc'\n",
            " Sliders.zip\n",
            " \u001b[01;34mtest_dir\u001b[0m/\n",
            "\u001b[01;34m'UD GIV Engineering'\u001b[0m/\n",
            "'Untitled presentation.gslides'\n"
          ],
          "name": "stdout"
        }
      ]
    },
    {
      "cell_type": "code",
      "metadata": {
        "id": "aeMjIX3w41lm",
        "colab_type": "code",
        "colab": {}
      },
      "source": [
        "mv \"drive/My Drive/240 no start.pdf\" \"drive/My Drive/test_dir\""
      ],
      "execution_count": 0,
      "outputs": []
    },
    {
      "cell_type": "code",
      "metadata": {
        "id": "CFGjA_Mp5Bgq",
        "colab_type": "code",
        "colab": {
          "base_uri": "https://localhost:8080/",
          "height": 372
        },
        "outputId": "7b096401-1381-42ed-9222-4b80b4013103"
      },
      "source": [
        "ls \"drive/My Drive\""
      ],
      "execution_count": 9,
      "outputs": [
        {
          "output_type": "stream",
          "text": [
            " backplate.dxf\n",
            "\u001b[0m\u001b[01;34m'Colab Notebooks'\u001b[0m/\n",
            "'CPEG202 Final 18-21 key.gdoc'\n",
            " \u001b[01;34mELEG310\u001b[0m/\n",
            "'Failure Analysis, Fixes, and Long Term Reliability Testing of Components for Electric Vehicles.gdoc'\n",
            " First_Baptist_Church_New_Castle.docx\n",
            " First_Baptist_Church_New_Castle.gdoc\n",
            "'Getting started.pdf'\n",
            "'Miller _ Spoolman Environmental Science 13th txtbk.pdf'\n",
            " Moist.gdoc\n",
            " \u001b[01;34mPHYS207\u001b[0m/\n",
            " Poster.gslides\n",
            " prop.dxf\n",
            "'Radar Presentation.gdoc'\n",
            "'Secret Santa.gdoc'\n",
            " Sliders.zip\n",
            " \u001b[01;34mtest_dir\u001b[0m/\n",
            "\u001b[01;34m'UD GIV Engineering'\u001b[0m/\n",
            "'Untitled presentation.gslides'\n"
          ],
          "name": "stdout"
        }
      ]
    },
    {
      "cell_type": "code",
      "metadata": {
        "id": "0tPHSxZG5H5h",
        "colab_type": "code",
        "colab": {
          "base_uri": "https://localhost:8080/",
          "height": 223
        },
        "outputId": "047b4e51-7348-4b49-9dda-cb90b127ae06"
      },
      "source": [
        "!wget https://www2.census.gov/programs-surveys/cbp/datasets/2016/zbp16totals.zip?#"
      ],
      "execution_count": 10,
      "outputs": [
        {
          "output_type": "stream",
          "text": [
            "--2019-09-23 20:52:53--  https://www2.census.gov/programs-surveys/cbp/datasets/2016/zbp16totals.zip?\n",
            "Resolving www2.census.gov (www2.census.gov)... 2.21.40.61, 2a02:26f0:7b:9b7::208c, 2a02:26f0:7b:9b1::208c\n",
            "Connecting to www2.census.gov (www2.census.gov)|2.21.40.61|:443... connected.\n",
            "HTTP request sent, awaiting response... 200 OK\n",
            "Length: unspecified [application/zip]\n",
            "Saving to: ‘zbp16totals.zip?’\n",
            "\n",
            "\rzbp16totals.zip?        [<=>                 ]       0  --.-KB/s               \rzbp16totals.zip?        [ <=>                ] 750.30K  4.80MB/s    in 0.2s    \n",
            "\n",
            "2019-09-23 20:52:54 (4.80 MB/s) - ‘zbp16totals.zip?’ saved [768303]\n",
            "\n"
          ],
          "name": "stdout"
        }
      ]
    },
    {
      "cell_type": "code",
      "metadata": {
        "id": "QOIcThxO5ghK",
        "colab_type": "code",
        "colab": {
          "base_uri": "https://localhost:8080/",
          "height": 36
        },
        "outputId": "bfa3aea0-cbb6-4c35-e059-00fb062ec2f4"
      },
      "source": [
        "ls"
      ],
      "execution_count": 11,
      "outputs": [
        {
          "output_type": "stream",
          "text": [
            " \u001b[0m\u001b[01;34mdrive\u001b[0m/   \u001b[01;34msample_data\u001b[0m/  'zbp16totals.zip?'\n"
          ],
          "name": "stdout"
        }
      ]
    },
    {
      "cell_type": "code",
      "metadata": {
        "id": "3wQ_Ubmc5klo",
        "colab_type": "code",
        "colab": {}
      },
      "source": [
        ""
      ],
      "execution_count": 0,
      "outputs": []
    }
  ]
}